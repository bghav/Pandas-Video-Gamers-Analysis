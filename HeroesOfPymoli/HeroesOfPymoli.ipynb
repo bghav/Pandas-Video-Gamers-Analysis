{
 "cells": [
  {
   "cell_type": "code",
   "execution_count": 8,
   "id": "cloudy-barrier",
   "metadata": {},
   "outputs": [],
   "source": [
    "# Dependencies and Setup\n",
    "import pandas as pd\n",
    "import numpy as np\n",
    "\n",
    "# File to Load (Remember to Change These)\n",
    "hop = \"Resources/purchase_data.csv\"\n",
    "\n",
    "# Read Purchasing File and store into Pandas data frame\n",
    "purchase_data = pd.read_csv(hop)"
   ]
  },
  {
   "cell_type": "code",
   "execution_count": 9,
   "id": "disturbed-surge",
   "metadata": {},
   "outputs": [
    {
     "data": {
      "text/plain": [
       "576"
      ]
     },
     "execution_count": 9,
     "metadata": {},
     "output_type": "execute_result"
    }
   ],
   "source": [
    "total_players = len(purchase_data[\"SN\"].unique())\n",
    "total_players"
   ]
  },
  {
   "cell_type": "code",
   "execution_count": 10,
   "id": "tough-pittsburgh",
   "metadata": {
    "scrolled": false
   },
   "outputs": [
    {
     "data": {
      "text/html": [
       "<div>\n",
       "<style scoped>\n",
       "    .dataframe tbody tr th:only-of-type {\n",
       "        vertical-align: middle;\n",
       "    }\n",
       "\n",
       "    .dataframe tbody tr th {\n",
       "        vertical-align: top;\n",
       "    }\n",
       "\n",
       "    .dataframe thead th {\n",
       "        text-align: right;\n",
       "    }\n",
       "</style>\n",
       "<table border=\"1\" class=\"dataframe\">\n",
       "  <thead>\n",
       "    <tr style=\"text-align: right;\">\n",
       "      <th></th>\n",
       "      <th>Number of Players</th>\n",
       "    </tr>\n",
       "  </thead>\n",
       "  <tbody>\n",
       "    <tr>\n",
       "      <th>0</th>\n",
       "      <td>576</td>\n",
       "    </tr>\n",
       "  </tbody>\n",
       "</table>\n",
       "</div>"
      ],
      "text/plain": [
       "   Number of Players\n",
       "0                576"
      ]
     },
     "execution_count": 10,
     "metadata": {},
     "output_type": "execute_result"
    }
   ],
   "source": [
    "# Creating a summary DataFrame using above values\n",
    "summary_df = pd.DataFrame({\"Number of Players\":[total_players]})\n",
    "\n",
    "summary_df"
   ]
  },
  {
   "cell_type": "code",
   "execution_count": 11,
   "id": "removed-champagne",
   "metadata": {},
   "outputs": [
    {
     "data": {
      "text/plain": [
       "780"
      ]
     },
     "execution_count": 11,
     "metadata": {},
     "output_type": "execute_result"
    }
   ],
   "source": [
    "total_purchases = purchase_data[\"Item ID\"].count()\n",
    "total_purchases"
   ]
  },
  {
   "cell_type": "code",
   "execution_count": 12,
   "id": "legendary-bench",
   "metadata": {},
   "outputs": [
    {
     "data": {
      "text/plain": [
       "179"
      ]
     },
     "execution_count": 12,
     "metadata": {},
     "output_type": "execute_result"
    }
   ],
   "source": [
    "# Calculate the number of unique authors in the DataFrame\n",
    "itemname = len(purchase_data[\"Item Name\"].unique())\n",
    "itemname"
   ]
  },
  {
   "cell_type": "code",
   "execution_count": 13,
   "id": "valid-praise",
   "metadata": {},
   "outputs": [
    {
     "data": {
      "text/plain": [
       "3.0509871794871795"
      ]
     },
     "execution_count": 13,
     "metadata": {},
     "output_type": "execute_result"
    }
   ],
   "source": [
    "# The mean method averages the series\n",
    "average = purchase_data[\"Price\"].mean()\n",
    "average"
   ]
  },
  {
   "cell_type": "code",
   "execution_count": 14,
   "id": "internal-incentive",
   "metadata": {},
   "outputs": [
    {
     "data": {
      "text/plain": [
       "2379.77"
      ]
     },
     "execution_count": 14,
     "metadata": {},
     "output_type": "execute_result"
    }
   ],
   "source": [
    "# The sum method adds every entry in the series\n",
    "total = purchase_data[\"Price\"].sum()\n",
    "total"
   ]
  },
  {
   "cell_type": "code",
   "execution_count": 15,
   "id": "temporal-chart",
   "metadata": {},
   "outputs": [
    {
     "data": {
      "text/html": [
       "<div>\n",
       "<style scoped>\n",
       "    .dataframe tbody tr th:only-of-type {\n",
       "        vertical-align: middle;\n",
       "    }\n",
       "\n",
       "    .dataframe tbody tr th {\n",
       "        vertical-align: top;\n",
       "    }\n",
       "\n",
       "    .dataframe thead th {\n",
       "        text-align: right;\n",
       "    }\n",
       "</style>\n",
       "<table border=\"1\" class=\"dataframe\">\n",
       "  <thead>\n",
       "    <tr style=\"text-align: right;\">\n",
       "      <th></th>\n",
       "      <th>Number of Unique Items</th>\n",
       "      <th>Average Price</th>\n",
       "      <th>Total Purchases</th>\n",
       "      <th>Total Revenue</th>\n",
       "    </tr>\n",
       "  </thead>\n",
       "  <tbody>\n",
       "    <tr>\n",
       "      <th>0</th>\n",
       "      <td>179</td>\n",
       "      <td>3.050987</td>\n",
       "      <td>780</td>\n",
       "      <td>2379.77</td>\n",
       "    </tr>\n",
       "  </tbody>\n",
       "</table>\n",
       "</div>"
      ],
      "text/plain": [
       "   Number of Unique Items  Average Price  Total Purchases  Total Revenue\n",
       "0                     179       3.050987              780        2379.77"
      ]
     },
     "execution_count": 15,
     "metadata": {},
     "output_type": "execute_result"
    }
   ],
   "source": [
    "# Creating a summary DataFrame using above values\n",
    "summary_df = pd.DataFrame({\"Number of Unique Items\": [itemname],\n",
    "                           \"Average Price\": [average],\n",
    "                           \"Total Purchases\":[total_purchases],\n",
    "                           \"Total Revenue\": [total]})\n",
    "\n",
    "summary_df"
   ]
  },
  {
   "cell_type": "code",
   "execution_count": 16,
   "id": "secure-sheffield",
   "metadata": {},
   "outputs": [
    {
     "data": {
      "text/html": [
       "<div>\n",
       "<style scoped>\n",
       "    .dataframe tbody tr th:only-of-type {\n",
       "        vertical-align: middle;\n",
       "    }\n",
       "\n",
       "    .dataframe tbody tr th {\n",
       "        vertical-align: top;\n",
       "    }\n",
       "\n",
       "    .dataframe thead th {\n",
       "        text-align: right;\n",
       "    }\n",
       "</style>\n",
       "<table border=\"1\" class=\"dataframe\">\n",
       "  <thead>\n",
       "    <tr style=\"text-align: right;\">\n",
       "      <th></th>\n",
       "      <th>Purchase ID</th>\n",
       "      <th>SN</th>\n",
       "      <th>Age</th>\n",
       "      <th>Gender</th>\n",
       "      <th>Item ID</th>\n",
       "      <th>Item Name</th>\n",
       "      <th>Price</th>\n",
       "    </tr>\n",
       "  </thead>\n",
       "  <tbody>\n",
       "    <tr>\n",
       "      <th>1</th>\n",
       "      <td>1</td>\n",
       "      <td>Lisovynya38</td>\n",
       "      <td>40</td>\n",
       "      <td>Male</td>\n",
       "      <td>143</td>\n",
       "      <td>Frenzied Scimitar</td>\n",
       "      <td>1.56</td>\n",
       "    </tr>\n",
       "    <tr>\n",
       "      <th>2</th>\n",
       "      <td>2</td>\n",
       "      <td>Ithergue48</td>\n",
       "      <td>24</td>\n",
       "      <td>Male</td>\n",
       "      <td>92</td>\n",
       "      <td>Final Critic</td>\n",
       "      <td>4.88</td>\n",
       "    </tr>\n",
       "    <tr>\n",
       "      <th>3</th>\n",
       "      <td>3</td>\n",
       "      <td>Chamassasya86</td>\n",
       "      <td>24</td>\n",
       "      <td>Male</td>\n",
       "      <td>100</td>\n",
       "      <td>Blindscythe</td>\n",
       "      <td>3.27</td>\n",
       "    </tr>\n",
       "    <tr>\n",
       "      <th>4</th>\n",
       "      <td>4</td>\n",
       "      <td>Iskosia90</td>\n",
       "      <td>23</td>\n",
       "      <td>Male</td>\n",
       "      <td>131</td>\n",
       "      <td>Fury</td>\n",
       "      <td>1.44</td>\n",
       "    </tr>\n",
       "    <tr>\n",
       "      <th>6</th>\n",
       "      <td>6</td>\n",
       "      <td>Itheria73</td>\n",
       "      <td>36</td>\n",
       "      <td>Male</td>\n",
       "      <td>169</td>\n",
       "      <td>Interrogator, Blood Blade of the Queen</td>\n",
       "      <td>2.18</td>\n",
       "    </tr>\n",
       "    <tr>\n",
       "      <th>...</th>\n",
       "      <td>...</td>\n",
       "      <td>...</td>\n",
       "      <td>...</td>\n",
       "      <td>...</td>\n",
       "      <td>...</td>\n",
       "      <td>...</td>\n",
       "      <td>...</td>\n",
       "    </tr>\n",
       "    <tr>\n",
       "      <th>775</th>\n",
       "      <td>775</td>\n",
       "      <td>Aethedru70</td>\n",
       "      <td>21</td>\n",
       "      <td>Female</td>\n",
       "      <td>60</td>\n",
       "      <td>Wolf</td>\n",
       "      <td>3.54</td>\n",
       "    </tr>\n",
       "    <tr>\n",
       "      <th>776</th>\n",
       "      <td>776</td>\n",
       "      <td>Iral74</td>\n",
       "      <td>21</td>\n",
       "      <td>Male</td>\n",
       "      <td>164</td>\n",
       "      <td>Exiled Doomblade</td>\n",
       "      <td>1.63</td>\n",
       "    </tr>\n",
       "    <tr>\n",
       "      <th>777</th>\n",
       "      <td>777</td>\n",
       "      <td>Yathecal72</td>\n",
       "      <td>20</td>\n",
       "      <td>Male</td>\n",
       "      <td>67</td>\n",
       "      <td>Celeste, Incarnation of the Corrupted</td>\n",
       "      <td>3.46</td>\n",
       "    </tr>\n",
       "    <tr>\n",
       "      <th>778</th>\n",
       "      <td>778</td>\n",
       "      <td>Sisur91</td>\n",
       "      <td>7</td>\n",
       "      <td>Male</td>\n",
       "      <td>92</td>\n",
       "      <td>Final Critic</td>\n",
       "      <td>4.19</td>\n",
       "    </tr>\n",
       "    <tr>\n",
       "      <th>779</th>\n",
       "      <td>779</td>\n",
       "      <td>Ennrian78</td>\n",
       "      <td>24</td>\n",
       "      <td>Male</td>\n",
       "      <td>50</td>\n",
       "      <td>Dawn</td>\n",
       "      <td>4.60</td>\n",
       "    </tr>\n",
       "  </tbody>\n",
       "</table>\n",
       "<p>576 rows × 7 columns</p>\n",
       "</div>"
      ],
      "text/plain": [
       "     Purchase ID             SN  Age  Gender  Item ID  \\\n",
       "1              1    Lisovynya38   40    Male      143   \n",
       "2              2     Ithergue48   24    Male       92   \n",
       "3              3  Chamassasya86   24    Male      100   \n",
       "4              4      Iskosia90   23    Male      131   \n",
       "6              6      Itheria73   36    Male      169   \n",
       "..           ...            ...  ...     ...      ...   \n",
       "775          775     Aethedru70   21  Female       60   \n",
       "776          776         Iral74   21    Male      164   \n",
       "777          777     Yathecal72   20    Male       67   \n",
       "778          778        Sisur91    7    Male       92   \n",
       "779          779      Ennrian78   24    Male       50   \n",
       "\n",
       "                                  Item Name  Price  \n",
       "1                         Frenzied Scimitar   1.56  \n",
       "2                              Final Critic   4.88  \n",
       "3                               Blindscythe   3.27  \n",
       "4                                      Fury   1.44  \n",
       "6    Interrogator, Blood Blade of the Queen   2.18  \n",
       "..                                      ...    ...  \n",
       "775                                    Wolf   3.54  \n",
       "776                        Exiled Doomblade   1.63  \n",
       "777   Celeste, Incarnation of the Corrupted   3.46  \n",
       "778                            Final Critic   4.19  \n",
       "779                                    Dawn   4.60  \n",
       "\n",
       "[576 rows x 7 columns]"
      ]
     },
     "execution_count": 16,
     "metadata": {},
     "output_type": "execute_result"
    }
   ],
   "source": [
    "uni_sn=purchase_data.drop_duplicates(subset=[\"SN\"],keep = \"last\")\n",
    "uni_sn\n"
   ]
  },
  {
   "cell_type": "code",
   "execution_count": 17,
   "id": "native-tractor",
   "metadata": {},
   "outputs": [
    {
     "data": {
      "text/plain": [
       "576"
      ]
     },
     "execution_count": 17,
     "metadata": {},
     "output_type": "execute_result"
    }
   ],
   "source": [
    "gcount = total_players\n",
    "gcount\n"
   ]
  },
  {
   "cell_type": "code",
   "execution_count": 18,
   "id": "tight-blackberry",
   "metadata": {},
   "outputs": [
    {
     "data": {
      "text/plain": [
       "484"
      ]
     },
     "execution_count": 18,
     "metadata": {},
     "output_type": "execute_result"
    }
   ],
   "source": [
    "malec =  uni_sn[\"Gender\"].value_counts()[\"Male\"]\n",
    "malec"
   ]
  },
  {
   "cell_type": "code",
   "execution_count": 19,
   "id": "statewide-crisis",
   "metadata": {},
   "outputs": [
    {
     "data": {
      "text/plain": [
       "81"
      ]
     },
     "execution_count": 19,
     "metadata": {},
     "output_type": "execute_result"
    }
   ],
   "source": [
    "femalec = uni_sn[\"Gender\"].value_counts()[\"Female\"]\n",
    "femalec"
   ]
  },
  {
   "cell_type": "code",
   "execution_count": 20,
   "id": "further-functionality",
   "metadata": {},
   "outputs": [
    {
     "data": {
      "text/plain": [
       "11"
      ]
     },
     "execution_count": 20,
     "metadata": {},
     "output_type": "execute_result"
    }
   ],
   "source": [
    "otherc = uni_sn[\"Gender\"].value_counts()[\"Other / Non-Disclosed\"]\n",
    "otherc"
   ]
  },
  {
   "cell_type": "code",
   "execution_count": 21,
   "id": "naughty-surfing",
   "metadata": {},
   "outputs": [
    {
     "data": {
      "text/html": [
       "<div>\n",
       "<style scoped>\n",
       "    .dataframe tbody tr th:only-of-type {\n",
       "        vertical-align: middle;\n",
       "    }\n",
       "\n",
       "    .dataframe tbody tr th {\n",
       "        vertical-align: top;\n",
       "    }\n",
       "\n",
       "    .dataframe thead th {\n",
       "        text-align: right;\n",
       "    }\n",
       "</style>\n",
       "<table border=\"1\" class=\"dataframe\">\n",
       "  <thead>\n",
       "    <tr style=\"text-align: right;\">\n",
       "      <th></th>\n",
       "      <th>Total Male</th>\n",
       "      <th>Total Female</th>\n",
       "      <th>Total Other/Non-Disclosed</th>\n",
       "      <th>Total Players</th>\n",
       "    </tr>\n",
       "  </thead>\n",
       "  <tbody>\n",
       "    <tr>\n",
       "      <th>0</th>\n",
       "      <td>484</td>\n",
       "      <td>81</td>\n",
       "      <td>11</td>\n",
       "      <td>576</td>\n",
       "    </tr>\n",
       "  </tbody>\n",
       "</table>\n",
       "</div>"
      ],
      "text/plain": [
       "   Total Male  Total Female  Total Other/Non-Disclosed  Total Players\n",
       "0         484            81                         11            576"
      ]
     },
     "execution_count": 21,
     "metadata": {},
     "output_type": "execute_result"
    }
   ],
   "source": [
    "summary_df = pd.DataFrame({\"Total Male\": [malec],\n",
    "                           \"Total Female\": [femalec],\n",
    "                           \"Total Other/Non-Disclosed\":[otherc],\n",
    "                           \"Total Players\": [gcount]})\n",
    "\n",
    "summary_df"
   ]
  },
  {
   "cell_type": "code",
   "execution_count": 22,
   "id": "planned-hopkins",
   "metadata": {},
   "outputs": [
    {
     "data": {
      "text/html": [
       "<div>\n",
       "<style scoped>\n",
       "    .dataframe tbody tr th:only-of-type {\n",
       "        vertical-align: middle;\n",
       "    }\n",
       "\n",
       "    .dataframe tbody tr th {\n",
       "        vertical-align: top;\n",
       "    }\n",
       "\n",
       "    .dataframe thead th {\n",
       "        text-align: right;\n",
       "    }\n",
       "</style>\n",
       "<table border=\"1\" class=\"dataframe\">\n",
       "  <thead>\n",
       "    <tr style=\"text-align: right;\">\n",
       "      <th></th>\n",
       "      <th>Player Type</th>\n",
       "      <th>Total Count</th>\n",
       "    </tr>\n",
       "  </thead>\n",
       "  <tbody>\n",
       "    <tr>\n",
       "      <th>0</th>\n",
       "      <td>Male</td>\n",
       "      <td>484</td>\n",
       "    </tr>\n",
       "    <tr>\n",
       "      <th>1</th>\n",
       "      <td>Female</td>\n",
       "      <td>81</td>\n",
       "    </tr>\n",
       "    <tr>\n",
       "      <th>2</th>\n",
       "      <td>Other/Non-Disclosed</td>\n",
       "      <td>11</td>\n",
       "    </tr>\n",
       "  </tbody>\n",
       "</table>\n",
       "</div>"
      ],
      "text/plain": [
       "           Player Type  Total Count\n",
       "0                 Male          484\n",
       "1               Female           81\n",
       "2  Other/Non-Disclosed           11"
      ]
     },
     "execution_count": 22,
     "metadata": {},
     "output_type": "execute_result"
    }
   ],
   "source": [
    "summary_df2 = pd.DataFrame([{\"Player Type\": \"Male\", \"Total Count\": malec},\n",
    "                            {\"Player Type\": \"Female\", \"Total Count\": femalec},\n",
    "                            {\"Player Type\": \"Other/Non-Disclosed\", \"Total Count\":otherc}])\n",
    "\n",
    "summary_df2"
   ]
  },
  {
   "cell_type": "code",
   "execution_count": 23,
   "id": "bulgarian-earth",
   "metadata": {},
   "outputs": [
    {
     "data": {
      "text/plain": [
       "576"
      ]
     },
     "execution_count": 23,
     "metadata": {},
     "output_type": "execute_result"
    }
   ],
   "source": [
    "total_players = summary_df2[\"Total Count\"].sum()\n",
    "total_players"
   ]
  },
  {
   "cell_type": "code",
   "execution_count": 24,
   "id": "collaborative-intranet",
   "metadata": {
    "scrolled": false
   },
   "outputs": [
    {
     "data": {
      "text/html": [
       "<div>\n",
       "<style scoped>\n",
       "    .dataframe tbody tr th:only-of-type {\n",
       "        vertical-align: middle;\n",
       "    }\n",
       "\n",
       "    .dataframe tbody tr th {\n",
       "        vertical-align: top;\n",
       "    }\n",
       "\n",
       "    .dataframe thead th {\n",
       "        text-align: right;\n",
       "    }\n",
       "</style>\n",
       "<table border=\"1\" class=\"dataframe\">\n",
       "  <thead>\n",
       "    <tr style=\"text-align: right;\">\n",
       "      <th></th>\n",
       "      <th>Player Type</th>\n",
       "      <th>Total Count</th>\n",
       "      <th>Percentage of Players</th>\n",
       "    </tr>\n",
       "  </thead>\n",
       "  <tbody>\n",
       "    <tr>\n",
       "      <th>0</th>\n",
       "      <td>Male</td>\n",
       "      <td>484</td>\n",
       "      <td>0.840278</td>\n",
       "    </tr>\n",
       "    <tr>\n",
       "      <th>1</th>\n",
       "      <td>Female</td>\n",
       "      <td>81</td>\n",
       "      <td>0.140625</td>\n",
       "    </tr>\n",
       "    <tr>\n",
       "      <th>2</th>\n",
       "      <td>Other/Non-Disclosed</td>\n",
       "      <td>11</td>\n",
       "      <td>0.019097</td>\n",
       "    </tr>\n",
       "  </tbody>\n",
       "</table>\n",
       "</div>"
      ],
      "text/plain": [
       "           Player Type  Total Count  Percentage of Players\n",
       "0                 Male          484               0.840278\n",
       "1               Female           81               0.140625\n",
       "2  Other/Non-Disclosed           11               0.019097"
      ]
     },
     "execution_count": 24,
     "metadata": {},
     "output_type": "execute_result"
    }
   ],
   "source": [
    "# Create a new column that finds the Total Male Percentages\n",
    "summary_df2[\"Percentage of Players\"] = summary_df2[\"Total Count\"] / total_players\n",
    "summary_df2"
   ]
  },
  {
   "cell_type": "code",
   "execution_count": 25,
   "id": "coordinated-syndrome",
   "metadata": {},
   "outputs": [
    {
     "data": {
      "text/html": [
       "<div>\n",
       "<style scoped>\n",
       "    .dataframe tbody tr th:only-of-type {\n",
       "        vertical-align: middle;\n",
       "    }\n",
       "\n",
       "    .dataframe tbody tr th {\n",
       "        vertical-align: top;\n",
       "    }\n",
       "\n",
       "    .dataframe thead tr th {\n",
       "        text-align: left;\n",
       "    }\n",
       "\n",
       "    .dataframe thead tr:last-of-type th {\n",
       "        text-align: right;\n",
       "    }\n",
       "</style>\n",
       "<table border=\"1\" class=\"dataframe\">\n",
       "  <thead>\n",
       "    <tr>\n",
       "      <th></th>\n",
       "      <th colspan=\"4\" halign=\"left\">Price</th>\n",
       "    </tr>\n",
       "    <tr>\n",
       "      <th></th>\n",
       "      <th>sum</th>\n",
       "      <th>mean</th>\n",
       "      <th>max</th>\n",
       "      <th>min</th>\n",
       "    </tr>\n",
       "    <tr>\n",
       "      <th>Gender</th>\n",
       "      <th></th>\n",
       "      <th></th>\n",
       "      <th></th>\n",
       "      <th></th>\n",
       "    </tr>\n",
       "  </thead>\n",
       "  <tbody>\n",
       "    <tr>\n",
       "      <th>Female</th>\n",
       "      <td>361.94</td>\n",
       "      <td>3.203009</td>\n",
       "      <td>4.90</td>\n",
       "      <td>1.00</td>\n",
       "    </tr>\n",
       "    <tr>\n",
       "      <th>Male</th>\n",
       "      <td>1967.64</td>\n",
       "      <td>3.017853</td>\n",
       "      <td>4.99</td>\n",
       "      <td>1.00</td>\n",
       "    </tr>\n",
       "    <tr>\n",
       "      <th>Other / Non-Disclosed</th>\n",
       "      <td>50.19</td>\n",
       "      <td>3.346000</td>\n",
       "      <td>4.75</td>\n",
       "      <td>1.33</td>\n",
       "    </tr>\n",
       "  </tbody>\n",
       "</table>\n",
       "</div>"
      ],
      "text/plain": [
       "                         Price                      \n",
       "                           sum      mean   max   min\n",
       "Gender                                              \n",
       "Female                  361.94  3.203009  4.90  1.00\n",
       "Male                   1967.64  3.017853  4.99  1.00\n",
       "Other / Non-Disclosed    50.19  3.346000  4.75  1.33"
      ]
     },
     "execution_count": 25,
     "metadata": {},
     "output_type": "execute_result"
    }
   ],
   "source": [
    "# group by Team, get mean, min, and max value of Age for each value of Tea\n",
    "totals_gender= purchase_data.groupby(\"Gender\").agg({\"Price\":[\"sum\",\"mean\",\"max\",\"min\"]})\n",
    "totals_gender\n"
   ]
  },
  {
   "cell_type": "code",
   "execution_count": 26,
   "id": "promising-small",
   "metadata": {},
   "outputs": [
    {
     "data": {
      "text/plain": [
       "4.99"
      ]
     },
     "execution_count": 26,
     "metadata": {},
     "output_type": "execute_result"
    }
   ],
   "source": [
    "matp=4.99\n",
    "matp"
   ]
  },
  {
   "cell_type": "code",
   "execution_count": 27,
   "id": "lovely-traveler",
   "metadata": {},
   "outputs": [
    {
     "data": {
      "text/plain": [
       "4.9"
      ]
     },
     "execution_count": 27,
     "metadata": {},
     "output_type": "execute_result"
    }
   ],
   "source": [
    "fatp=4.90\n",
    "fatp"
   ]
  },
  {
   "cell_type": "code",
   "execution_count": 28,
   "id": "thirty-witness",
   "metadata": {},
   "outputs": [
    {
     "data": {
      "text/plain": [
       "4.75"
      ]
     },
     "execution_count": 28,
     "metadata": {},
     "output_type": "execute_result"
    }
   ],
   "source": [
    "oatp=4.75\n",
    "oatp"
   ]
  },
  {
   "cell_type": "code",
   "execution_count": 29,
   "id": "dress-collins",
   "metadata": {},
   "outputs": [
    {
     "data": {
      "text/plain": [
       "484"
      ]
     },
     "execution_count": 29,
     "metadata": {},
     "output_type": "execute_result"
    }
   ],
   "source": [
    "pur_cm=malec\n",
    "pur_cm"
   ]
  },
  {
   "cell_type": "code",
   "execution_count": 30,
   "id": "utility-harassment",
   "metadata": {},
   "outputs": [
    {
     "data": {
      "text/plain": [
       "1967.64"
      ]
     },
     "execution_count": 30,
     "metadata": {},
     "output_type": "execute_result"
    }
   ],
   "source": [
    "price_summ=1967.64\n",
    "price_summ"
   ]
  },
  {
   "cell_type": "code",
   "execution_count": 31,
   "id": "romance-casting",
   "metadata": {},
   "outputs": [
    {
     "data": {
      "text/plain": [
       "4.065371900826446"
      ]
     },
     "execution_count": 31,
     "metadata": {},
     "output_type": "execute_result"
    }
   ],
   "source": [
    "avgmp=price_summ/pur_cm\n",
    "avgmp"
   ]
  },
  {
   "cell_type": "code",
   "execution_count": 32,
   "id": "seventh-mining",
   "metadata": {},
   "outputs": [
    {
     "data": {
      "text/plain": [
       "81"
      ]
     },
     "execution_count": 32,
     "metadata": {},
     "output_type": "execute_result"
    }
   ],
   "source": [
    "pur_cf=femalec\n",
    "pur_cf"
   ]
  },
  {
   "cell_type": "code",
   "execution_count": 33,
   "id": "plain-portable",
   "metadata": {},
   "outputs": [
    {
     "data": {
      "text/plain": [
       "361.94"
      ]
     },
     "execution_count": 33,
     "metadata": {},
     "output_type": "execute_result"
    }
   ],
   "source": [
    "price_sumf=361.94\n",
    "price_sumf"
   ]
  },
  {
   "cell_type": "code",
   "execution_count": 34,
   "id": "announced-repository",
   "metadata": {},
   "outputs": [
    {
     "data": {
      "text/plain": [
       "4.468395061728395"
      ]
     },
     "execution_count": 34,
     "metadata": {},
     "output_type": "execute_result"
    }
   ],
   "source": [
    "avgfp=price_sumf/pur_cf\n",
    "avgfp"
   ]
  },
  {
   "cell_type": "code",
   "execution_count": 35,
   "id": "understanding-prototype",
   "metadata": {},
   "outputs": [
    {
     "data": {
      "text/plain": [
       "11"
      ]
     },
     "execution_count": 35,
     "metadata": {},
     "output_type": "execute_result"
    }
   ],
   "source": [
    "pur_co=otherc\n",
    "pur_co"
   ]
  },
  {
   "cell_type": "code",
   "execution_count": 36,
   "id": "digital-level",
   "metadata": {},
   "outputs": [
    {
     "data": {
      "text/plain": [
       "50.19"
      ]
     },
     "execution_count": 36,
     "metadata": {},
     "output_type": "execute_result"
    }
   ],
   "source": [
    "price_sumo=50.19\n",
    "price_sumo"
   ]
  },
  {
   "cell_type": "code",
   "execution_count": 37,
   "id": "bright-premium",
   "metadata": {},
   "outputs": [
    {
     "data": {
      "text/plain": [
       "4.5627272727272725"
      ]
     },
     "execution_count": 37,
     "metadata": {},
     "output_type": "execute_result"
    }
   ],
   "source": [
    "avgop=price_sumo/pur_co\n",
    "avgop"
   ]
  },
  {
   "cell_type": "code",
   "execution_count": 38,
   "id": "anonymous-hampton",
   "metadata": {},
   "outputs": [
    {
     "data": {
      "text/html": [
       "<div>\n",
       "<style scoped>\n",
       "    .dataframe tbody tr th:only-of-type {\n",
       "        vertical-align: middle;\n",
       "    }\n",
       "\n",
       "    .dataframe tbody tr th {\n",
       "        vertical-align: top;\n",
       "    }\n",
       "\n",
       "    .dataframe thead th {\n",
       "        text-align: right;\n",
       "    }\n",
       "</style>\n",
       "<table border=\"1\" class=\"dataframe\">\n",
       "  <thead>\n",
       "    <tr style=\"text-align: right;\">\n",
       "      <th></th>\n",
       "      <th>Gender</th>\n",
       "      <th>Total Count</th>\n",
       "      <th>Average Purchase Price</th>\n",
       "      <th>Total Purchase Value</th>\n",
       "      <th>Avg Total Purchase Per Person</th>\n",
       "    </tr>\n",
       "  </thead>\n",
       "  <tbody>\n",
       "    <tr>\n",
       "      <th>0</th>\n",
       "      <td>Male</td>\n",
       "      <td>484</td>\n",
       "      <td>4.065372</td>\n",
       "      <td>1967.64</td>\n",
       "      <td>4.99</td>\n",
       "    </tr>\n",
       "    <tr>\n",
       "      <th>1</th>\n",
       "      <td>Female</td>\n",
       "      <td>81</td>\n",
       "      <td>4.468395</td>\n",
       "      <td>361.94</td>\n",
       "      <td>4.90</td>\n",
       "    </tr>\n",
       "    <tr>\n",
       "      <th>2</th>\n",
       "      <td>Other/Non-Disclosed</td>\n",
       "      <td>11</td>\n",
       "      <td>4.562727</td>\n",
       "      <td>50.19</td>\n",
       "      <td>4.75</td>\n",
       "    </tr>\n",
       "  </tbody>\n",
       "</table>\n",
       "</div>"
      ],
      "text/plain": [
       "                Gender  Total Count  Average Purchase Price  \\\n",
       "0                 Male          484                4.065372   \n",
       "1               Female           81                4.468395   \n",
       "2  Other/Non-Disclosed           11                4.562727   \n",
       "\n",
       "   Total Purchase Value  Avg Total Purchase Per Person  \n",
       "0               1967.64                           4.99  \n",
       "1                361.94                           4.90  \n",
       "2                 50.19                           4.75  "
      ]
     },
     "execution_count": 38,
     "metadata": {},
     "output_type": "execute_result"
    }
   ],
   "source": [
    "summarybygender_df = pd.DataFrame([{\"Gender\": \"Male\", \"Total Count\": pur_cm,\"Average Purchase Price\":avgmp,\"Total Purchase Value\":price_summ,\"Avg Total Purchase Per Person\":matp},\n",
    "                            {\"Gender\": \"Female\", \"Total Count\": pur_cf,\"Average Purchase Price\":avgfp,\"Total Purchase Value\":price_sumf,\"Avg Total Purchase Per Person\":fatp},\n",
    "                            {\"Gender\": \"Other/Non-Disclosed\", \"Total Count\":pur_co,\"Average Purchase Price\":avgop,\"Total Purchase Value\":price_sumo,\"Avg Total Purchase Per Person\":oatp}])\n",
    "\n",
    "summarybygender_df"
   ]
  },
  {
   "cell_type": "code",
   "execution_count": 39,
   "id": "nervous-theorem",
   "metadata": {},
   "outputs": [
    {
     "data": {
      "text/html": [
       "<div>\n",
       "<style scoped>\n",
       "    .dataframe tbody tr th:only-of-type {\n",
       "        vertical-align: middle;\n",
       "    }\n",
       "\n",
       "    .dataframe tbody tr th {\n",
       "        vertical-align: top;\n",
       "    }\n",
       "\n",
       "    .dataframe thead th {\n",
       "        text-align: right;\n",
       "    }\n",
       "</style>\n",
       "<table border=\"1\" class=\"dataframe\">\n",
       "  <thead>\n",
       "    <tr style=\"text-align: right;\">\n",
       "      <th></th>\n",
       "      <th>Purchase ID</th>\n",
       "      <th>SN</th>\n",
       "      <th>Age</th>\n",
       "      <th>Gender</th>\n",
       "      <th>Item ID</th>\n",
       "      <th>Item Name</th>\n",
       "      <th>Price</th>\n",
       "    </tr>\n",
       "  </thead>\n",
       "  <tbody>\n",
       "    <tr>\n",
       "      <th>0</th>\n",
       "      <td>0</td>\n",
       "      <td>Lisim78</td>\n",
       "      <td>20</td>\n",
       "      <td>Male</td>\n",
       "      <td>108</td>\n",
       "      <td>Extraction, Quickblade Of Trembling Hands</td>\n",
       "      <td>3.53</td>\n",
       "    </tr>\n",
       "    <tr>\n",
       "      <th>1</th>\n",
       "      <td>1</td>\n",
       "      <td>Lisovynya38</td>\n",
       "      <td>40</td>\n",
       "      <td>Male</td>\n",
       "      <td>143</td>\n",
       "      <td>Frenzied Scimitar</td>\n",
       "      <td>1.56</td>\n",
       "    </tr>\n",
       "    <tr>\n",
       "      <th>2</th>\n",
       "      <td>2</td>\n",
       "      <td>Ithergue48</td>\n",
       "      <td>24</td>\n",
       "      <td>Male</td>\n",
       "      <td>92</td>\n",
       "      <td>Final Critic</td>\n",
       "      <td>4.88</td>\n",
       "    </tr>\n",
       "    <tr>\n",
       "      <th>3</th>\n",
       "      <td>3</td>\n",
       "      <td>Chamassasya86</td>\n",
       "      <td>24</td>\n",
       "      <td>Male</td>\n",
       "      <td>100</td>\n",
       "      <td>Blindscythe</td>\n",
       "      <td>3.27</td>\n",
       "    </tr>\n",
       "    <tr>\n",
       "      <th>4</th>\n",
       "      <td>4</td>\n",
       "      <td>Iskosia90</td>\n",
       "      <td>23</td>\n",
       "      <td>Male</td>\n",
       "      <td>131</td>\n",
       "      <td>Fury</td>\n",
       "      <td>1.44</td>\n",
       "    </tr>\n",
       "  </tbody>\n",
       "</table>\n",
       "</div>"
      ],
      "text/plain": [
       "   Purchase ID             SN  Age Gender  Item ID  \\\n",
       "0            0        Lisim78   20   Male      108   \n",
       "1            1    Lisovynya38   40   Male      143   \n",
       "2            2     Ithergue48   24   Male       92   \n",
       "3            3  Chamassasya86   24   Male      100   \n",
       "4            4      Iskosia90   23   Male      131   \n",
       "\n",
       "                                   Item Name  Price  \n",
       "0  Extraction, Quickblade Of Trembling Hands   3.53  \n",
       "1                          Frenzied Scimitar   1.56  \n",
       "2                               Final Critic   4.88  \n",
       "3                                Blindscythe   3.27  \n",
       "4                                       Fury   1.44  "
      ]
     },
     "execution_count": 39,
     "metadata": {},
     "output_type": "execute_result"
    }
   ],
   "source": [
    "# Read and display the CSV with Pandas\n",
    "hop_df = purchase_data\n",
    "hop_df.head()"
   ]
  },
  {
   "cell_type": "code",
   "execution_count": 40,
   "id": "western-costa",
   "metadata": {},
   "outputs": [
    {
     "data": {
      "text/html": [
       "<div>\n",
       "<style scoped>\n",
       "    .dataframe tbody tr th:only-of-type {\n",
       "        vertical-align: middle;\n",
       "    }\n",
       "\n",
       "    .dataframe tbody tr th {\n",
       "        vertical-align: top;\n",
       "    }\n",
       "\n",
       "    .dataframe thead tr th {\n",
       "        text-align: left;\n",
       "    }\n",
       "\n",
       "    .dataframe thead tr:last-of-type th {\n",
       "        text-align: right;\n",
       "    }\n",
       "</style>\n",
       "<table border=\"1\" class=\"dataframe\">\n",
       "  <thead>\n",
       "    <tr>\n",
       "      <th></th>\n",
       "      <th colspan=\"3\" halign=\"left\">Age</th>\n",
       "    </tr>\n",
       "    <tr>\n",
       "      <th></th>\n",
       "      <th>mean</th>\n",
       "      <th>max</th>\n",
       "      <th>min</th>\n",
       "    </tr>\n",
       "    <tr>\n",
       "      <th>Gender</th>\n",
       "      <th></th>\n",
       "      <th></th>\n",
       "      <th></th>\n",
       "    </tr>\n",
       "  </thead>\n",
       "  <tbody>\n",
       "    <tr>\n",
       "      <th>Female</th>\n",
       "      <td>21.345133</td>\n",
       "      <td>40</td>\n",
       "      <td>7</td>\n",
       "    </tr>\n",
       "    <tr>\n",
       "      <th>Male</th>\n",
       "      <td>22.917178</td>\n",
       "      <td>45</td>\n",
       "      <td>7</td>\n",
       "    </tr>\n",
       "    <tr>\n",
       "      <th>Other / Non-Disclosed</th>\n",
       "      <td>24.200000</td>\n",
       "      <td>38</td>\n",
       "      <td>15</td>\n",
       "    </tr>\n",
       "  </tbody>\n",
       "</table>\n",
       "</div>"
      ],
      "text/plain": [
       "                             Age        \n",
       "                            mean max min\n",
       "Gender                                  \n",
       "Female                 21.345133  40   7\n",
       "Male                   22.917178  45   7\n",
       "Other / Non-Disclosed  24.200000  38  15"
      ]
     },
     "execution_count": 40,
     "metadata": {},
     "output_type": "execute_result"
    }
   ],
   "source": [
    "# group by Team, get mean, min, and max value of Age for each value of Tea\n",
    "totals_gender= hop_df.groupby(\"Gender\").agg({\"Age\":[\"mean\",\"max\",\"min\"]})\n",
    "totals_gender"
   ]
  },
  {
   "cell_type": "code",
   "execution_count": 41,
   "id": "pacific-imperial",
   "metadata": {},
   "outputs": [
    {
     "name": "stdout",
     "output_type": "stream",
     "text": [
      "45\n",
      "7\n"
     ]
    }
   ],
   "source": [
    "# Figure out the minimum and maximum views for a TED Talk\n",
    "print(hop_df[\"Age\"].max())\n",
    "print(hop_df[\"Age\"].min())"
   ]
  },
  {
   "cell_type": "code",
   "execution_count": 42,
   "id": "charitable-decision",
   "metadata": {},
   "outputs": [],
   "source": [
    "# Create the bins in which Data will be held\n",
    "# Bins are 0, 59.9, 69.9, 79.9, 89.9, 100.   \n",
    "bins = [9,10,15,20,24,25,30,35,40]\n",
    "\n",
    "# Create the names for the five bins\n",
    "group_labels = [\"<10\", \"10-14\", \"15-19\", \"20-24\", \"25-29\",\"30-34\",\"35-39\",\"40+\"]"
   ]
  },
  {
   "cell_type": "code",
   "execution_count": 43,
   "id": "retired-centre",
   "metadata": {},
   "outputs": [
    {
     "data": {
      "text/plain": [
       "0    15-19\n",
       "1      40+\n",
       "2    20-24\n",
       "3    20-24\n",
       "4    20-24\n",
       "Name: Age, dtype: category\n",
       "Categories (8, object): ['<10' < '10-14' < '15-19' < '20-24' < '25-29' < '30-34' < '35-39' < '40+']"
      ]
     },
     "execution_count": 43,
     "metadata": {},
     "output_type": "execute_result"
    }
   ],
   "source": [
    "# Slice the data and place it into bins\n",
    "pd.cut(hop_df[\"Age\"], bins, labels=group_labels).head()"
   ]
  },
  {
   "cell_type": "code",
   "execution_count": 44,
   "id": "laden-ethnic",
   "metadata": {
    "scrolled": true
   },
   "outputs": [
    {
     "data": {
      "text/html": [
       "<div>\n",
       "<style scoped>\n",
       "    .dataframe tbody tr th:only-of-type {\n",
       "        vertical-align: middle;\n",
       "    }\n",
       "\n",
       "    .dataframe tbody tr th {\n",
       "        vertical-align: top;\n",
       "    }\n",
       "\n",
       "    .dataframe thead th {\n",
       "        text-align: right;\n",
       "    }\n",
       "</style>\n",
       "<table border=\"1\" class=\"dataframe\">\n",
       "  <thead>\n",
       "    <tr style=\"text-align: right;\">\n",
       "      <th></th>\n",
       "      <th>Purchase ID</th>\n",
       "      <th>SN</th>\n",
       "      <th>Age</th>\n",
       "      <th>Gender</th>\n",
       "      <th>Item ID</th>\n",
       "      <th>Item Name</th>\n",
       "      <th>Price</th>\n",
       "      <th>Age Group</th>\n",
       "    </tr>\n",
       "  </thead>\n",
       "  <tbody>\n",
       "    <tr>\n",
       "      <th>0</th>\n",
       "      <td>0</td>\n",
       "      <td>Lisim78</td>\n",
       "      <td>20</td>\n",
       "      <td>Male</td>\n",
       "      <td>108</td>\n",
       "      <td>Extraction, Quickblade Of Trembling Hands</td>\n",
       "      <td>3.53</td>\n",
       "      <td>15-19</td>\n",
       "    </tr>\n",
       "    <tr>\n",
       "      <th>1</th>\n",
       "      <td>1</td>\n",
       "      <td>Lisovynya38</td>\n",
       "      <td>40</td>\n",
       "      <td>Male</td>\n",
       "      <td>143</td>\n",
       "      <td>Frenzied Scimitar</td>\n",
       "      <td>1.56</td>\n",
       "      <td>40+</td>\n",
       "    </tr>\n",
       "    <tr>\n",
       "      <th>2</th>\n",
       "      <td>2</td>\n",
       "      <td>Ithergue48</td>\n",
       "      <td>24</td>\n",
       "      <td>Male</td>\n",
       "      <td>92</td>\n",
       "      <td>Final Critic</td>\n",
       "      <td>4.88</td>\n",
       "      <td>20-24</td>\n",
       "    </tr>\n",
       "    <tr>\n",
       "      <th>3</th>\n",
       "      <td>3</td>\n",
       "      <td>Chamassasya86</td>\n",
       "      <td>24</td>\n",
       "      <td>Male</td>\n",
       "      <td>100</td>\n",
       "      <td>Blindscythe</td>\n",
       "      <td>3.27</td>\n",
       "      <td>20-24</td>\n",
       "    </tr>\n",
       "    <tr>\n",
       "      <th>4</th>\n",
       "      <td>4</td>\n",
       "      <td>Iskosia90</td>\n",
       "      <td>23</td>\n",
       "      <td>Male</td>\n",
       "      <td>131</td>\n",
       "      <td>Fury</td>\n",
       "      <td>1.44</td>\n",
       "      <td>20-24</td>\n",
       "    </tr>\n",
       "  </tbody>\n",
       "</table>\n",
       "</div>"
      ],
      "text/plain": [
       "   Purchase ID             SN  Age Gender  Item ID  \\\n",
       "0            0        Lisim78   20   Male      108   \n",
       "1            1    Lisovynya38   40   Male      143   \n",
       "2            2     Ithergue48   24   Male       92   \n",
       "3            3  Chamassasya86   24   Male      100   \n",
       "4            4      Iskosia90   23   Male      131   \n",
       "\n",
       "                                   Item Name  Price Age Group  \n",
       "0  Extraction, Quickblade Of Trembling Hands   3.53     15-19  \n",
       "1                          Frenzied Scimitar   1.56       40+  \n",
       "2                               Final Critic   4.88     20-24  \n",
       "3                                Blindscythe   3.27     20-24  \n",
       "4                                       Fury   1.44     20-24  "
      ]
     },
     "execution_count": 44,
     "metadata": {},
     "output_type": "execute_result"
    }
   ],
   "source": [
    "# Place the data series into a new column inside of the DataFrame\n",
    "hop_df[\"Age Group\"] = pd.cut(hop_df[\"Age\"], bins, labels=group_labels)\n",
    "hop_df.head()"
   ]
  },
  {
   "cell_type": "code",
   "execution_count": 45,
   "id": "changed-modeling",
   "metadata": {},
   "outputs": [
    {
     "name": "stdout",
     "output_type": "stream",
     "text": [
      "Age Group\n",
      "<10        9\n",
      "10-14     54\n",
      "15-19    200\n",
      "20-24    266\n",
      "25-29     59\n",
      "30-34     77\n",
      "35-39     52\n",
      "40+       33\n",
      "Name: Age, dtype: int64\n",
      "Age Group\n",
      "<10      0.011538\n",
      "10-14    0.069231\n",
      "15-19    0.256410\n",
      "20-24    0.341026\n",
      "25-29    0.075641\n",
      "30-34    0.098718\n",
      "35-39    0.066667\n",
      "40+      0.042308\n",
      "Name: Age, dtype: float64\n"
     ]
    }
   ],
   "source": [
    "# Create a GroupBy object based upon \"View Group\"\n",
    "age_group = hop_df.groupby(\"Age Group\")\n",
    "\n",
    "# Find how many rows fall into each bin\n",
    "c=(age_group[\"Age\"].count())\n",
    "print(c)\n",
    "\n",
    "# Find how many rows fall into each bin\n",
    "p=(age_group[\"Age\"].count()/780)\n",
    "print(p)\n"
   ]
  },
  {
   "cell_type": "code",
   "execution_count": 46,
   "id": "local-hepatitis",
   "metadata": {},
   "outputs": [
    {
     "data": {
      "text/html": [
       "<div>\n",
       "<style scoped>\n",
       "    .dataframe tbody tr th:only-of-type {\n",
       "        vertical-align: middle;\n",
       "    }\n",
       "\n",
       "    .dataframe tbody tr th {\n",
       "        vertical-align: top;\n",
       "    }\n",
       "\n",
       "    .dataframe thead th {\n",
       "        text-align: right;\n",
       "    }\n",
       "</style>\n",
       "<table border=\"1\" class=\"dataframe\">\n",
       "  <thead>\n",
       "    <tr style=\"text-align: right;\">\n",
       "      <th></th>\n",
       "      <th>Total Count</th>\n",
       "      <th>Total Percentages</th>\n",
       "    </tr>\n",
       "    <tr>\n",
       "      <th>Age Group</th>\n",
       "      <th></th>\n",
       "      <th></th>\n",
       "    </tr>\n",
       "  </thead>\n",
       "  <tbody>\n",
       "    <tr>\n",
       "      <th>&lt;10</th>\n",
       "      <td>9</td>\n",
       "      <td>1.153846</td>\n",
       "    </tr>\n",
       "    <tr>\n",
       "      <th>10-14</th>\n",
       "      <td>54</td>\n",
       "      <td>6.923077</td>\n",
       "    </tr>\n",
       "    <tr>\n",
       "      <th>15-19</th>\n",
       "      <td>200</td>\n",
       "      <td>25.641026</td>\n",
       "    </tr>\n",
       "    <tr>\n",
       "      <th>20-24</th>\n",
       "      <td>266</td>\n",
       "      <td>34.102564</td>\n",
       "    </tr>\n",
       "    <tr>\n",
       "      <th>25-29</th>\n",
       "      <td>59</td>\n",
       "      <td>7.564103</td>\n",
       "    </tr>\n",
       "    <tr>\n",
       "      <th>30-34</th>\n",
       "      <td>77</td>\n",
       "      <td>9.871795</td>\n",
       "    </tr>\n",
       "    <tr>\n",
       "      <th>35-39</th>\n",
       "      <td>52</td>\n",
       "      <td>6.666667</td>\n",
       "    </tr>\n",
       "    <tr>\n",
       "      <th>40+</th>\n",
       "      <td>33</td>\n",
       "      <td>4.230769</td>\n",
       "    </tr>\n",
       "  </tbody>\n",
       "</table>\n",
       "</div>"
      ],
      "text/plain": [
       "           Total Count  Total Percentages\n",
       "Age Group                                \n",
       "<10                  9           1.153846\n",
       "10-14               54           6.923077\n",
       "15-19              200          25.641026\n",
       "20-24              266          34.102564\n",
       "25-29               59           7.564103\n",
       "30-34               77           9.871795\n",
       "35-39               52           6.666667\n",
       "40+                 33           4.230769"
      ]
     },
     "execution_count": 46,
     "metadata": {},
     "output_type": "execute_result"
    }
   ],
   "source": [
    "agedemo_df = pd.DataFrame({\"Total Count\":c,\"Total Percentages\":p*100})\n",
    "\n",
    "agedemo_df"
   ]
  },
  {
   "cell_type": "code",
   "execution_count": 47,
   "id": "expected-alabama",
   "metadata": {},
   "outputs": [
    {
     "name": "stdout",
     "output_type": "stream",
     "text": [
      "Age Group\n",
      "<10        9\n",
      "10-14     54\n",
      "15-19    200\n",
      "20-24    266\n",
      "25-29     59\n",
      "30-34     77\n",
      "35-39     52\n",
      "40+       33\n",
      "Name: Age, dtype: int64\n",
      "            Price\n",
      "Age Group        \n",
      "<10         31.83\n",
      "10-14      156.60\n",
      "15-19      621.56\n",
      "20-24      799.74\n",
      "25-29      181.90\n",
      "30-34      221.42\n",
      "35-39      155.71\n",
      "40+        112.35\n",
      "              Price\n",
      "Age Group          \n",
      "<10        3.536667\n",
      "10-14      2.900000\n",
      "15-19      3.107800\n",
      "20-24      3.006541\n",
      "25-29      3.083051\n",
      "30-34      2.875584\n",
      "35-39      2.994423\n",
      "40+        3.404545\n"
     ]
    }
   ],
   "source": [
    "# Create a GroupBy object based upon \"View Group\"\n",
    "age_group = hop_df.groupby(\"Age Group\")\n",
    "\n",
    "# Find how many rows fall into each bin\n",
    "atp=(age_group[\"Age\"].count())\n",
    "print(atp)\n",
    "\n",
    "# Get the average of each column within the GroupBy object\n",
    "psum=age_group[[\"Price\"]].sum()\n",
    "print(psum)\n",
    "\n",
    "# Get the average of each column within the GroupBy object\n",
    "pavg=age_group[[\"Price\"]].mean()\n",
    "print(pavg)\n",
    "\n",
    "\n"
   ]
  },
  {
   "cell_type": "code",
   "execution_count": 48,
   "id": "funded-scheduling",
   "metadata": {},
   "outputs": [],
   "source": [
    "# Create the bins in which Data will be held\n",
    "# Bins are 0, 59.9, 69.9, 79.9, 89.9, 100.   \n",
    "pbins = [0, 10, 15, 20, 25, 30,35,40,45]\n",
    "\n",
    "# Create the names for the five bins\n",
    "group_cat = [\"<=10\", \"11-14\", \"15-19\", \"20-24\", \"25-29\",\"30-34\",\"35-39\",\"40+\"]"
   ]
  },
  {
   "cell_type": "code",
   "execution_count": 49,
   "id": "played-international",
   "metadata": {
    "scrolled": true
   },
   "outputs": [
    {
     "data": {
      "text/plain": [
       "0    15-19\n",
       "1    35-39\n",
       "2    20-24\n",
       "3    20-24\n",
       "4    20-24\n",
       "Name: Age, dtype: category\n",
       "Categories (8, object): ['<=10' < '11-14' < '15-19' < '20-24' < '25-29' < '30-34' < '35-39' < '40+']"
      ]
     },
     "execution_count": 49,
     "metadata": {},
     "output_type": "execute_result"
    }
   ],
   "source": [
    "# Slice the data and place it into bins\n",
    "pd.cut(hop_df[\"Age\"], pbins, labels=group_cat).head()"
   ]
  },
  {
   "cell_type": "code",
   "execution_count": 50,
   "id": "legitimate-organizer",
   "metadata": {
    "scrolled": true
   },
   "outputs": [
    {
     "data": {
      "text/html": [
       "<div>\n",
       "<style scoped>\n",
       "    .dataframe tbody tr th:only-of-type {\n",
       "        vertical-align: middle;\n",
       "    }\n",
       "\n",
       "    .dataframe tbody tr th {\n",
       "        vertical-align: top;\n",
       "    }\n",
       "\n",
       "    .dataframe thead th {\n",
       "        text-align: right;\n",
       "    }\n",
       "</style>\n",
       "<table border=\"1\" class=\"dataframe\">\n",
       "  <thead>\n",
       "    <tr style=\"text-align: right;\">\n",
       "      <th></th>\n",
       "      <th>Purchase ID</th>\n",
       "      <th>SN</th>\n",
       "      <th>Age</th>\n",
       "      <th>Gender</th>\n",
       "      <th>Item ID</th>\n",
       "      <th>Item Name</th>\n",
       "      <th>Price</th>\n",
       "      <th>Age Group</th>\n",
       "    </tr>\n",
       "  </thead>\n",
       "  <tbody>\n",
       "    <tr>\n",
       "      <th>0</th>\n",
       "      <td>0</td>\n",
       "      <td>Lisim78</td>\n",
       "      <td>20</td>\n",
       "      <td>Male</td>\n",
       "      <td>108</td>\n",
       "      <td>Extraction, Quickblade Of Trembling Hands</td>\n",
       "      <td>3.53</td>\n",
       "      <td>15-19</td>\n",
       "    </tr>\n",
       "    <tr>\n",
       "      <th>1</th>\n",
       "      <td>1</td>\n",
       "      <td>Lisovynya38</td>\n",
       "      <td>40</td>\n",
       "      <td>Male</td>\n",
       "      <td>143</td>\n",
       "      <td>Frenzied Scimitar</td>\n",
       "      <td>1.56</td>\n",
       "      <td>35-39</td>\n",
       "    </tr>\n",
       "    <tr>\n",
       "      <th>2</th>\n",
       "      <td>2</td>\n",
       "      <td>Ithergue48</td>\n",
       "      <td>24</td>\n",
       "      <td>Male</td>\n",
       "      <td>92</td>\n",
       "      <td>Final Critic</td>\n",
       "      <td>4.88</td>\n",
       "      <td>20-24</td>\n",
       "    </tr>\n",
       "    <tr>\n",
       "      <th>3</th>\n",
       "      <td>3</td>\n",
       "      <td>Chamassasya86</td>\n",
       "      <td>24</td>\n",
       "      <td>Male</td>\n",
       "      <td>100</td>\n",
       "      <td>Blindscythe</td>\n",
       "      <td>3.27</td>\n",
       "      <td>20-24</td>\n",
       "    </tr>\n",
       "    <tr>\n",
       "      <th>4</th>\n",
       "      <td>4</td>\n",
       "      <td>Iskosia90</td>\n",
       "      <td>23</td>\n",
       "      <td>Male</td>\n",
       "      <td>131</td>\n",
       "      <td>Fury</td>\n",
       "      <td>1.44</td>\n",
       "      <td>20-24</td>\n",
       "    </tr>\n",
       "  </tbody>\n",
       "</table>\n",
       "</div>"
      ],
      "text/plain": [
       "   Purchase ID             SN  Age Gender  Item ID  \\\n",
       "0            0        Lisim78   20   Male      108   \n",
       "1            1    Lisovynya38   40   Male      143   \n",
       "2            2     Ithergue48   24   Male       92   \n",
       "3            3  Chamassasya86   24   Male      100   \n",
       "4            4      Iskosia90   23   Male      131   \n",
       "\n",
       "                                   Item Name  Price Age Group  \n",
       "0  Extraction, Quickblade Of Trembling Hands   3.53     15-19  \n",
       "1                          Frenzied Scimitar   1.56     35-39  \n",
       "2                               Final Critic   4.88     20-24  \n",
       "3                                Blindscythe   3.27     20-24  \n",
       "4                                       Fury   1.44     20-24  "
      ]
     },
     "execution_count": 50,
     "metadata": {},
     "output_type": "execute_result"
    }
   ],
   "source": [
    "# Place the data series into a new column inside of the DataFrame\n",
    "hop_df[\"Age Group\"] = pd.cut(hop_df[\"Age\"], pbins, labels=group_cat)\n",
    "hop_df.head()"
   ]
  },
  {
   "cell_type": "code",
   "execution_count": 51,
   "id": "liked-quantum",
   "metadata": {
    "scrolled": true
   },
   "outputs": [
    {
     "data": {
      "text/html": [
       "<div>\n",
       "<style scoped>\n",
       "    .dataframe tbody tr th:only-of-type {\n",
       "        vertical-align: middle;\n",
       "    }\n",
       "\n",
       "    .dataframe tbody tr th {\n",
       "        vertical-align: top;\n",
       "    }\n",
       "\n",
       "    .dataframe thead th {\n",
       "        text-align: right;\n",
       "    }\n",
       "</style>\n",
       "<table border=\"1\" class=\"dataframe\">\n",
       "  <thead>\n",
       "    <tr style=\"text-align: right;\">\n",
       "      <th></th>\n",
       "      <th>Purchase ID</th>\n",
       "      <th>SN</th>\n",
       "      <th>Age</th>\n",
       "      <th>Gender</th>\n",
       "      <th>Item ID</th>\n",
       "      <th>Item Name</th>\n",
       "      <th>Price</th>\n",
       "      <th>Age Group</th>\n",
       "    </tr>\n",
       "  </thead>\n",
       "  <tbody>\n",
       "    <tr>\n",
       "      <th>0</th>\n",
       "      <td>0</td>\n",
       "      <td>Lisim78</td>\n",
       "      <td>20</td>\n",
       "      <td>Male</td>\n",
       "      <td>108</td>\n",
       "      <td>Extraction, Quickblade Of Trembling Hands</td>\n",
       "      <td>3.53</td>\n",
       "      <td>15-19</td>\n",
       "    </tr>\n",
       "    <tr>\n",
       "      <th>1</th>\n",
       "      <td>1</td>\n",
       "      <td>Lisovynya38</td>\n",
       "      <td>40</td>\n",
       "      <td>Male</td>\n",
       "      <td>143</td>\n",
       "      <td>Frenzied Scimitar</td>\n",
       "      <td>1.56</td>\n",
       "      <td>35-39</td>\n",
       "    </tr>\n",
       "    <tr>\n",
       "      <th>2</th>\n",
       "      <td>2</td>\n",
       "      <td>Ithergue48</td>\n",
       "      <td>24</td>\n",
       "      <td>Male</td>\n",
       "      <td>92</td>\n",
       "      <td>Final Critic</td>\n",
       "      <td>4.88</td>\n",
       "      <td>20-24</td>\n",
       "    </tr>\n",
       "    <tr>\n",
       "      <th>3</th>\n",
       "      <td>3</td>\n",
       "      <td>Chamassasya86</td>\n",
       "      <td>24</td>\n",
       "      <td>Male</td>\n",
       "      <td>100</td>\n",
       "      <td>Blindscythe</td>\n",
       "      <td>3.27</td>\n",
       "      <td>20-24</td>\n",
       "    </tr>\n",
       "    <tr>\n",
       "      <th>4</th>\n",
       "      <td>4</td>\n",
       "      <td>Iskosia90</td>\n",
       "      <td>23</td>\n",
       "      <td>Male</td>\n",
       "      <td>131</td>\n",
       "      <td>Fury</td>\n",
       "      <td>1.44</td>\n",
       "      <td>20-24</td>\n",
       "    </tr>\n",
       "  </tbody>\n",
       "</table>\n",
       "</div>"
      ],
      "text/plain": [
       "   Purchase ID             SN  Age Gender  Item ID  \\\n",
       "0            0        Lisim78   20   Male      108   \n",
       "1            1    Lisovynya38   40   Male      143   \n",
       "2            2     Ithergue48   24   Male       92   \n",
       "3            3  Chamassasya86   24   Male      100   \n",
       "4            4      Iskosia90   23   Male      131   \n",
       "\n",
       "                                   Item Name  Price Age Group  \n",
       "0  Extraction, Quickblade Of Trembling Hands   3.53     15-19  \n",
       "1                          Frenzied Scimitar   1.56     35-39  \n",
       "2                               Final Critic   4.88     20-24  \n",
       "3                                Blindscythe   3.27     20-24  \n",
       "4                                       Fury   1.44     20-24  "
      ]
     },
     "execution_count": 51,
     "metadata": {},
     "output_type": "execute_result"
    }
   ],
   "source": [
    "# Place the data series into a new column inside of the DataFrame\n",
    "hop_df[\"Age Group\"] = pd.cut(hop_df[\"Age\"], pbins, labels=group_cat)\n",
    "hop_df.head()"
   ]
  },
  {
   "cell_type": "code",
   "execution_count": 52,
   "id": "artistic-popularity",
   "metadata": {},
   "outputs": [
    {
     "name": "stdout",
     "output_type": "stream",
     "text": [
      "Age Group\n",
      "<=10      32\n",
      "11-14     54\n",
      "15-19    200\n",
      "20-24    325\n",
      "25-29     77\n",
      "30-34     52\n",
      "35-39     33\n",
      "40+        7\n",
      "Name: Age, dtype: int64\n",
      "Age Group\n",
      "<=10     3.405000\n",
      "11-14    2.900000\n",
      "15-19    3.107800\n",
      "20-24    3.020431\n",
      "25-29    2.875584\n",
      "30-34    2.994423\n",
      "35-39    3.404545\n",
      "40+      3.075714\n",
      "Name: Price, dtype: float64\n",
      "Age Group\n",
      "<=10     108.96\n",
      "11-14    156.60\n",
      "15-19    621.56\n",
      "20-24    981.64\n",
      "25-29    221.42\n",
      "30-34    155.71\n",
      "35-39    112.35\n",
      "40+       21.53\n",
      "Name: Price, dtype: float64\n"
     ]
    }
   ],
   "source": [
    "# Create a GroupBy object based upon \"View Group\"\n",
    "age_group = hop_df.groupby(\"Age Group\")\n",
    "\n",
    "# Find how many rows fall into each bin\n",
    "a=(age_group[\"Age\"].count())\n",
    "print(a)\n",
    "\n",
    "# Find how many rows fall into each bin\n",
    "admean=(age_group[\"Price\"].mean())\n",
    "print(admean)\n",
    "\n",
    "# Find how many rows fall into each bin\n",
    "d=(age_group[\"Price\"].sum())\n",
    "print(d)"
   ]
  },
  {
   "cell_type": "code",
   "execution_count": 53,
   "id": "italian-cabin",
   "metadata": {
    "scrolled": true
   },
   "outputs": [
    {
     "data": {
      "text/html": [
       "<div>\n",
       "<style scoped>\n",
       "    .dataframe tbody tr th:only-of-type {\n",
       "        vertical-align: middle;\n",
       "    }\n",
       "\n",
       "    .dataframe tbody tr th {\n",
       "        vertical-align: top;\n",
       "    }\n",
       "\n",
       "    .dataframe thead th {\n",
       "        text-align: right;\n",
       "    }\n",
       "</style>\n",
       "<table border=\"1\" class=\"dataframe\">\n",
       "  <thead>\n",
       "    <tr style=\"text-align: right;\">\n",
       "      <th></th>\n",
       "      <th>Total Count</th>\n",
       "      <th>Average Total Price</th>\n",
       "      <th>Total Purchase Value</th>\n",
       "    </tr>\n",
       "    <tr>\n",
       "      <th>Age Group</th>\n",
       "      <th></th>\n",
       "      <th></th>\n",
       "      <th></th>\n",
       "    </tr>\n",
       "  </thead>\n",
       "  <tbody>\n",
       "    <tr>\n",
       "      <th>&lt;=10</th>\n",
       "      <td>32</td>\n",
       "      <td>3.405000</td>\n",
       "      <td>108.96</td>\n",
       "    </tr>\n",
       "    <tr>\n",
       "      <th>11-14</th>\n",
       "      <td>54</td>\n",
       "      <td>2.900000</td>\n",
       "      <td>156.60</td>\n",
       "    </tr>\n",
       "    <tr>\n",
       "      <th>15-19</th>\n",
       "      <td>200</td>\n",
       "      <td>3.107800</td>\n",
       "      <td>621.56</td>\n",
       "    </tr>\n",
       "    <tr>\n",
       "      <th>20-24</th>\n",
       "      <td>325</td>\n",
       "      <td>3.020431</td>\n",
       "      <td>981.64</td>\n",
       "    </tr>\n",
       "    <tr>\n",
       "      <th>25-29</th>\n",
       "      <td>77</td>\n",
       "      <td>2.875584</td>\n",
       "      <td>221.42</td>\n",
       "    </tr>\n",
       "    <tr>\n",
       "      <th>30-34</th>\n",
       "      <td>52</td>\n",
       "      <td>2.994423</td>\n",
       "      <td>155.71</td>\n",
       "    </tr>\n",
       "    <tr>\n",
       "      <th>35-39</th>\n",
       "      <td>33</td>\n",
       "      <td>3.404545</td>\n",
       "      <td>112.35</td>\n",
       "    </tr>\n",
       "    <tr>\n",
       "      <th>40+</th>\n",
       "      <td>7</td>\n",
       "      <td>3.075714</td>\n",
       "      <td>21.53</td>\n",
       "    </tr>\n",
       "  </tbody>\n",
       "</table>\n",
       "</div>"
      ],
      "text/plain": [
       "           Total Count  Average Total Price  Total Purchase Value\n",
       "Age Group                                                        \n",
       "<=10                32             3.405000                108.96\n",
       "11-14               54             2.900000                156.60\n",
       "15-19              200             3.107800                621.56\n",
       "20-24              325             3.020431                981.64\n",
       "25-29               77             2.875584                221.42\n",
       "30-34               52             2.994423                155.71\n",
       "35-39               33             3.404545                112.35\n",
       "40+                  7             3.075714                 21.53"
      ]
     },
     "execution_count": 53,
     "metadata": {},
     "output_type": "execute_result"
    }
   ],
   "source": [
    "agedemo_df = pd.DataFrame({\"Total Count\":a,\"Average Total Price\":admean,\"Total Purchase Value\":d})\n",
    "\n",
    "agedemo_df"
   ]
  },
  {
   "cell_type": "code",
   "execution_count": 54,
   "id": "introductory-dimension",
   "metadata": {},
   "outputs": [],
   "source": [
    "df = hop_df.sort_values(\n",
    "    [\"SN\"])"
   ]
  },
  {
   "cell_type": "code",
   "execution_count": 55,
   "id": "stylish-scroll",
   "metadata": {
    "scrolled": true
   },
   "outputs": [
    {
     "data": {
      "text/html": [
       "<div>\n",
       "<style scoped>\n",
       "    .dataframe tbody tr th:only-of-type {\n",
       "        vertical-align: middle;\n",
       "    }\n",
       "\n",
       "    .dataframe tbody tr th {\n",
       "        vertical-align: top;\n",
       "    }\n",
       "\n",
       "    .dataframe thead th {\n",
       "        text-align: right;\n",
       "    }\n",
       "</style>\n",
       "<table border=\"1\" class=\"dataframe\">\n",
       "  <thead>\n",
       "    <tr style=\"text-align: right;\">\n",
       "      <th></th>\n",
       "      <th>Purchase ID</th>\n",
       "      <th>SN</th>\n",
       "      <th>Age</th>\n",
       "      <th>Gender</th>\n",
       "      <th>Item ID</th>\n",
       "      <th>Item Name</th>\n",
       "      <th>Price</th>\n",
       "      <th>Age Group</th>\n",
       "    </tr>\n",
       "  </thead>\n",
       "  <tbody>\n",
       "    <tr>\n",
       "      <th>467</th>\n",
       "      <td>467</td>\n",
       "      <td>Adairialis76</td>\n",
       "      <td>16</td>\n",
       "      <td>Male</td>\n",
       "      <td>123</td>\n",
       "      <td>Twilight's Carver</td>\n",
       "      <td>2.28</td>\n",
       "      <td>15-19</td>\n",
       "    </tr>\n",
       "    <tr>\n",
       "      <th>142</th>\n",
       "      <td>142</td>\n",
       "      <td>Adastirin33</td>\n",
       "      <td>35</td>\n",
       "      <td>Female</td>\n",
       "      <td>175</td>\n",
       "      <td>Woeful Adamantite Claymore</td>\n",
       "      <td>4.48</td>\n",
       "      <td>30-34</td>\n",
       "    </tr>\n",
       "    <tr>\n",
       "      <th>388</th>\n",
       "      <td>388</td>\n",
       "      <td>Aeda94</td>\n",
       "      <td>17</td>\n",
       "      <td>Male</td>\n",
       "      <td>128</td>\n",
       "      <td>Blazeguard, Reach of Eternity</td>\n",
       "      <td>4.91</td>\n",
       "      <td>15-19</td>\n",
       "    </tr>\n",
       "    <tr>\n",
       "      <th>28</th>\n",
       "      <td>28</td>\n",
       "      <td>Aela59</td>\n",
       "      <td>21</td>\n",
       "      <td>Male</td>\n",
       "      <td>119</td>\n",
       "      <td>Stormbringer, Dark Blade of Ending Misery</td>\n",
       "      <td>4.32</td>\n",
       "      <td>20-24</td>\n",
       "    </tr>\n",
       "    <tr>\n",
       "      <th>630</th>\n",
       "      <td>630</td>\n",
       "      <td>Aelaria33</td>\n",
       "      <td>23</td>\n",
       "      <td>Male</td>\n",
       "      <td>171</td>\n",
       "      <td>Scalpel</td>\n",
       "      <td>1.79</td>\n",
       "      <td>20-24</td>\n",
       "    </tr>\n",
       "    <tr>\n",
       "      <th>...</th>\n",
       "      <td>...</td>\n",
       "      <td>...</td>\n",
       "      <td>...</td>\n",
       "      <td>...</td>\n",
       "      <td>...</td>\n",
       "      <td>...</td>\n",
       "      <td>...</td>\n",
       "      <td>...</td>\n",
       "    </tr>\n",
       "    <tr>\n",
       "      <th>54</th>\n",
       "      <td>54</td>\n",
       "      <td>Zhisrisu83</td>\n",
       "      <td>10</td>\n",
       "      <td>Male</td>\n",
       "      <td>25</td>\n",
       "      <td>Hero Cane</td>\n",
       "      <td>4.35</td>\n",
       "      <td>&lt;=10</td>\n",
       "    </tr>\n",
       "    <tr>\n",
       "      <th>141</th>\n",
       "      <td>141</td>\n",
       "      <td>Zhisrisu83</td>\n",
       "      <td>10</td>\n",
       "      <td>Male</td>\n",
       "      <td>60</td>\n",
       "      <td>Wolf</td>\n",
       "      <td>3.54</td>\n",
       "      <td>&lt;=10</td>\n",
       "    </tr>\n",
       "    <tr>\n",
       "      <th>560</th>\n",
       "      <td>560</td>\n",
       "      <td>Zontibe81</td>\n",
       "      <td>21</td>\n",
       "      <td>Male</td>\n",
       "      <td>2</td>\n",
       "      <td>Verdict</td>\n",
       "      <td>2.48</td>\n",
       "      <td>20-24</td>\n",
       "    </tr>\n",
       "    <tr>\n",
       "      <th>442</th>\n",
       "      <td>442</td>\n",
       "      <td>Zontibe81</td>\n",
       "      <td>21</td>\n",
       "      <td>Male</td>\n",
       "      <td>84</td>\n",
       "      <td>Arcane Gem</td>\n",
       "      <td>3.79</td>\n",
       "      <td>20-24</td>\n",
       "    </tr>\n",
       "    <tr>\n",
       "      <th>17</th>\n",
       "      <td>17</td>\n",
       "      <td>Zontibe81</td>\n",
       "      <td>21</td>\n",
       "      <td>Male</td>\n",
       "      <td>161</td>\n",
       "      <td>Devine</td>\n",
       "      <td>1.76</td>\n",
       "      <td>20-24</td>\n",
       "    </tr>\n",
       "  </tbody>\n",
       "</table>\n",
       "<p>780 rows × 8 columns</p>\n",
       "</div>"
      ],
      "text/plain": [
       "     Purchase ID            SN  Age  Gender  Item ID  \\\n",
       "467          467  Adairialis76   16    Male      123   \n",
       "142          142   Adastirin33   35  Female      175   \n",
       "388          388        Aeda94   17    Male      128   \n",
       "28            28        Aela59   21    Male      119   \n",
       "630          630     Aelaria33   23    Male      171   \n",
       "..           ...           ...  ...     ...      ...   \n",
       "54            54    Zhisrisu83   10    Male       25   \n",
       "141          141    Zhisrisu83   10    Male       60   \n",
       "560          560     Zontibe81   21    Male        2   \n",
       "442          442     Zontibe81   21    Male       84   \n",
       "17            17     Zontibe81   21    Male      161   \n",
       "\n",
       "                                     Item Name  Price Age Group  \n",
       "467                          Twilight's Carver   2.28     15-19  \n",
       "142                 Woeful Adamantite Claymore   4.48     30-34  \n",
       "388              Blazeguard, Reach of Eternity   4.91     15-19  \n",
       "28   Stormbringer, Dark Blade of Ending Misery   4.32     20-24  \n",
       "630                                    Scalpel   1.79     20-24  \n",
       "..                                         ...    ...       ...  \n",
       "54                                   Hero Cane   4.35      <=10  \n",
       "141                                       Wolf   3.54      <=10  \n",
       "560                                    Verdict   2.48     20-24  \n",
       "442                                 Arcane Gem   3.79     20-24  \n",
       "17                                      Devine   1.76     20-24  \n",
       "\n",
       "[780 rows x 8 columns]"
      ]
     },
     "execution_count": 55,
     "metadata": {},
     "output_type": "execute_result"
    }
   ],
   "source": [
    "df[\"SN\"].count()\n",
    "df"
   ]
  },
  {
   "cell_type": "code",
   "execution_count": 56,
   "id": "static-logging",
   "metadata": {
    "scrolled": true
   },
   "outputs": [
    {
     "data": {
      "text/html": [
       "<div>\n",
       "<style scoped>\n",
       "    .dataframe tbody tr th:only-of-type {\n",
       "        vertical-align: middle;\n",
       "    }\n",
       "\n",
       "    .dataframe tbody tr th {\n",
       "        vertical-align: top;\n",
       "    }\n",
       "\n",
       "    .dataframe thead th {\n",
       "        text-align: right;\n",
       "    }\n",
       "</style>\n",
       "<table border=\"1\" class=\"dataframe\">\n",
       "  <thead>\n",
       "    <tr style=\"text-align: right;\">\n",
       "      <th></th>\n",
       "      <th>Purchase ID</th>\n",
       "      <th>Age</th>\n",
       "      <th>Gender</th>\n",
       "      <th>Item ID</th>\n",
       "      <th>Item Name</th>\n",
       "      <th>Price</th>\n",
       "      <th>Age Group</th>\n",
       "    </tr>\n",
       "    <tr>\n",
       "      <th>SN</th>\n",
       "      <th></th>\n",
       "      <th></th>\n",
       "      <th></th>\n",
       "      <th></th>\n",
       "      <th></th>\n",
       "      <th></th>\n",
       "      <th></th>\n",
       "    </tr>\n",
       "  </thead>\n",
       "  <tbody>\n",
       "    <tr>\n",
       "      <th>Adairialis76</th>\n",
       "      <td>1</td>\n",
       "      <td>1</td>\n",
       "      <td>1</td>\n",
       "      <td>1</td>\n",
       "      <td>1</td>\n",
       "      <td>1</td>\n",
       "      <td>1</td>\n",
       "    </tr>\n",
       "    <tr>\n",
       "      <th>Adastirin33</th>\n",
       "      <td>1</td>\n",
       "      <td>1</td>\n",
       "      <td>1</td>\n",
       "      <td>1</td>\n",
       "      <td>1</td>\n",
       "      <td>1</td>\n",
       "      <td>1</td>\n",
       "    </tr>\n",
       "    <tr>\n",
       "      <th>Aeda94</th>\n",
       "      <td>1</td>\n",
       "      <td>1</td>\n",
       "      <td>1</td>\n",
       "      <td>1</td>\n",
       "      <td>1</td>\n",
       "      <td>1</td>\n",
       "      <td>1</td>\n",
       "    </tr>\n",
       "    <tr>\n",
       "      <th>Aela59</th>\n",
       "      <td>1</td>\n",
       "      <td>1</td>\n",
       "      <td>1</td>\n",
       "      <td>1</td>\n",
       "      <td>1</td>\n",
       "      <td>1</td>\n",
       "      <td>1</td>\n",
       "    </tr>\n",
       "    <tr>\n",
       "      <th>Aelaria33</th>\n",
       "      <td>1</td>\n",
       "      <td>1</td>\n",
       "      <td>1</td>\n",
       "      <td>1</td>\n",
       "      <td>1</td>\n",
       "      <td>1</td>\n",
       "      <td>1</td>\n",
       "    </tr>\n",
       "    <tr>\n",
       "      <th>...</th>\n",
       "      <td>...</td>\n",
       "      <td>...</td>\n",
       "      <td>...</td>\n",
       "      <td>...</td>\n",
       "      <td>...</td>\n",
       "      <td>...</td>\n",
       "      <td>...</td>\n",
       "    </tr>\n",
       "    <tr>\n",
       "      <th>Yathecal82</th>\n",
       "      <td>3</td>\n",
       "      <td>3</td>\n",
       "      <td>3</td>\n",
       "      <td>3</td>\n",
       "      <td>3</td>\n",
       "      <td>3</td>\n",
       "      <td>3</td>\n",
       "    </tr>\n",
       "    <tr>\n",
       "      <th>Yathedeu43</th>\n",
       "      <td>2</td>\n",
       "      <td>2</td>\n",
       "      <td>2</td>\n",
       "      <td>2</td>\n",
       "      <td>2</td>\n",
       "      <td>2</td>\n",
       "      <td>2</td>\n",
       "    </tr>\n",
       "    <tr>\n",
       "      <th>Yoishirrala98</th>\n",
       "      <td>1</td>\n",
       "      <td>1</td>\n",
       "      <td>1</td>\n",
       "      <td>1</td>\n",
       "      <td>1</td>\n",
       "      <td>1</td>\n",
       "      <td>1</td>\n",
       "    </tr>\n",
       "    <tr>\n",
       "      <th>Zhisrisu83</th>\n",
       "      <td>2</td>\n",
       "      <td>2</td>\n",
       "      <td>2</td>\n",
       "      <td>2</td>\n",
       "      <td>2</td>\n",
       "      <td>2</td>\n",
       "      <td>2</td>\n",
       "    </tr>\n",
       "    <tr>\n",
       "      <th>Zontibe81</th>\n",
       "      <td>3</td>\n",
       "      <td>3</td>\n",
       "      <td>3</td>\n",
       "      <td>3</td>\n",
       "      <td>3</td>\n",
       "      <td>3</td>\n",
       "      <td>3</td>\n",
       "    </tr>\n",
       "  </tbody>\n",
       "</table>\n",
       "<p>576 rows × 7 columns</p>\n",
       "</div>"
      ],
      "text/plain": [
       "               Purchase ID  Age  Gender  Item ID  Item Name  Price  Age Group\n",
       "SN                                                                           \n",
       "Adairialis76             1    1       1        1          1      1          1\n",
       "Adastirin33              1    1       1        1          1      1          1\n",
       "Aeda94                   1    1       1        1          1      1          1\n",
       "Aela59                   1    1       1        1          1      1          1\n",
       "Aelaria33                1    1       1        1          1      1          1\n",
       "...                    ...  ...     ...      ...        ...    ...        ...\n",
       "Yathecal82               3    3       3        3          3      3          3\n",
       "Yathedeu43               2    2       2        2          2      2          2\n",
       "Yoishirrala98            1    1       1        1          1      1          1\n",
       "Zhisrisu83               2    2       2        2          2      2          2\n",
       "Zontibe81                3    3       3        3          3      3          3\n",
       "\n",
       "[576 rows x 7 columns]"
      ]
     },
     "execution_count": 56,
     "metadata": {},
     "output_type": "execute_result"
    }
   ],
   "source": [
    "df.groupby(['SN']).count()"
   ]
  },
  {
   "cell_type": "code",
   "execution_count": 57,
   "id": "altered-republic",
   "metadata": {
    "scrolled": true
   },
   "outputs": [
    {
     "data": {
      "text/html": [
       "<div>\n",
       "<style scoped>\n",
       "    .dataframe tbody tr th:only-of-type {\n",
       "        vertical-align: middle;\n",
       "    }\n",
       "\n",
       "    .dataframe tbody tr th {\n",
       "        vertical-align: top;\n",
       "    }\n",
       "\n",
       "    .dataframe thead th {\n",
       "        text-align: right;\n",
       "    }\n",
       "</style>\n",
       "<table border=\"1\" class=\"dataframe\">\n",
       "  <thead>\n",
       "    <tr style=\"text-align: right;\">\n",
       "      <th></th>\n",
       "      <th></th>\n",
       "      <th>Purchase ID</th>\n",
       "      <th>Age</th>\n",
       "      <th>Gender</th>\n",
       "      <th>Item ID</th>\n",
       "      <th>Item Name</th>\n",
       "      <th>Age Group</th>\n",
       "    </tr>\n",
       "    <tr>\n",
       "      <th>SN</th>\n",
       "      <th>Price</th>\n",
       "      <th></th>\n",
       "      <th></th>\n",
       "      <th></th>\n",
       "      <th></th>\n",
       "      <th></th>\n",
       "      <th></th>\n",
       "    </tr>\n",
       "  </thead>\n",
       "  <tbody>\n",
       "    <tr>\n",
       "      <th>Adairialis76</th>\n",
       "      <th>2.28</th>\n",
       "      <td>1</td>\n",
       "      <td>1</td>\n",
       "      <td>1</td>\n",
       "      <td>1</td>\n",
       "      <td>1</td>\n",
       "      <td>1</td>\n",
       "    </tr>\n",
       "    <tr>\n",
       "      <th>Adastirin33</th>\n",
       "      <th>4.48</th>\n",
       "      <td>1</td>\n",
       "      <td>1</td>\n",
       "      <td>1</td>\n",
       "      <td>1</td>\n",
       "      <td>1</td>\n",
       "      <td>1</td>\n",
       "    </tr>\n",
       "    <tr>\n",
       "      <th>Aeda94</th>\n",
       "      <th>4.91</th>\n",
       "      <td>1</td>\n",
       "      <td>1</td>\n",
       "      <td>1</td>\n",
       "      <td>1</td>\n",
       "      <td>1</td>\n",
       "      <td>1</td>\n",
       "    </tr>\n",
       "    <tr>\n",
       "      <th>Aela59</th>\n",
       "      <th>4.32</th>\n",
       "      <td>1</td>\n",
       "      <td>1</td>\n",
       "      <td>1</td>\n",
       "      <td>1</td>\n",
       "      <td>1</td>\n",
       "      <td>1</td>\n",
       "    </tr>\n",
       "    <tr>\n",
       "      <th>Aelaria33</th>\n",
       "      <th>1.79</th>\n",
       "      <td>1</td>\n",
       "      <td>1</td>\n",
       "      <td>1</td>\n",
       "      <td>1</td>\n",
       "      <td>1</td>\n",
       "      <td>1</td>\n",
       "    </tr>\n",
       "    <tr>\n",
       "      <th>...</th>\n",
       "      <th>...</th>\n",
       "      <td>...</td>\n",
       "      <td>...</td>\n",
       "      <td>...</td>\n",
       "      <td>...</td>\n",
       "      <td>...</td>\n",
       "      <td>...</td>\n",
       "    </tr>\n",
       "    <tr>\n",
       "      <th rowspan=\"2\" valign=\"top\">Zhisrisu83</th>\n",
       "      <th>3.54</th>\n",
       "      <td>1</td>\n",
       "      <td>1</td>\n",
       "      <td>1</td>\n",
       "      <td>1</td>\n",
       "      <td>1</td>\n",
       "      <td>1</td>\n",
       "    </tr>\n",
       "    <tr>\n",
       "      <th>4.35</th>\n",
       "      <td>1</td>\n",
       "      <td>1</td>\n",
       "      <td>1</td>\n",
       "      <td>1</td>\n",
       "      <td>1</td>\n",
       "      <td>1</td>\n",
       "    </tr>\n",
       "    <tr>\n",
       "      <th rowspan=\"3\" valign=\"top\">Zontibe81</th>\n",
       "      <th>1.76</th>\n",
       "      <td>1</td>\n",
       "      <td>1</td>\n",
       "      <td>1</td>\n",
       "      <td>1</td>\n",
       "      <td>1</td>\n",
       "      <td>1</td>\n",
       "    </tr>\n",
       "    <tr>\n",
       "      <th>2.48</th>\n",
       "      <td>1</td>\n",
       "      <td>1</td>\n",
       "      <td>1</td>\n",
       "      <td>1</td>\n",
       "      <td>1</td>\n",
       "      <td>1</td>\n",
       "    </tr>\n",
       "    <tr>\n",
       "      <th>3.79</th>\n",
       "      <td>1</td>\n",
       "      <td>1</td>\n",
       "      <td>1</td>\n",
       "      <td>1</td>\n",
       "      <td>1</td>\n",
       "      <td>1</td>\n",
       "    </tr>\n",
       "  </tbody>\n",
       "</table>\n",
       "<p>779 rows × 6 columns</p>\n",
       "</div>"
      ],
      "text/plain": [
       "                    Purchase ID  Age  Gender  Item ID  Item Name  Age Group\n",
       "SN           Price                                                         \n",
       "Adairialis76 2.28             1    1       1        1          1          1\n",
       "Adastirin33  4.48             1    1       1        1          1          1\n",
       "Aeda94       4.91             1    1       1        1          1          1\n",
       "Aela59       4.32             1    1       1        1          1          1\n",
       "Aelaria33    1.79             1    1       1        1          1          1\n",
       "...                         ...  ...     ...      ...        ...        ...\n",
       "Zhisrisu83   3.54             1    1       1        1          1          1\n",
       "             4.35             1    1       1        1          1          1\n",
       "Zontibe81    1.76             1    1       1        1          1          1\n",
       "             2.48             1    1       1        1          1          1\n",
       "             3.79             1    1       1        1          1          1\n",
       "\n",
       "[779 rows x 6 columns]"
      ]
     },
     "execution_count": 57,
     "metadata": {},
     "output_type": "execute_result"
    }
   ],
   "source": [
    "df.groupby([\"SN\",\"Price\"]).count()"
   ]
  },
  {
   "cell_type": "code",
   "execution_count": 58,
   "id": "looking-boxing",
   "metadata": {
    "scrolled": false
   },
   "outputs": [
    {
     "data": {
      "text/html": [
       "<div>\n",
       "<style scoped>\n",
       "    .dataframe tbody tr th:only-of-type {\n",
       "        vertical-align: middle;\n",
       "    }\n",
       "\n",
       "    .dataframe tbody tr th {\n",
       "        vertical-align: top;\n",
       "    }\n",
       "\n",
       "    .dataframe thead th {\n",
       "        text-align: right;\n",
       "    }\n",
       "</style>\n",
       "<table border=\"1\" class=\"dataframe\">\n",
       "  <thead>\n",
       "    <tr style=\"text-align: right;\">\n",
       "      <th></th>\n",
       "      <th>Total Purchase Value</th>\n",
       "      <th>Average</th>\n",
       "      <th>Purchase Count</th>\n",
       "    </tr>\n",
       "    <tr>\n",
       "      <th>SN</th>\n",
       "      <th></th>\n",
       "      <th></th>\n",
       "      <th></th>\n",
       "    </tr>\n",
       "  </thead>\n",
       "  <tbody>\n",
       "    <tr>\n",
       "      <th>Lisosia93</th>\n",
       "      <td>18.96</td>\n",
       "      <td>3.792000</td>\n",
       "      <td>5</td>\n",
       "    </tr>\n",
       "    <tr>\n",
       "      <th>Idastidru52</th>\n",
       "      <td>15.45</td>\n",
       "      <td>3.862500</td>\n",
       "      <td>4</td>\n",
       "    </tr>\n",
       "    <tr>\n",
       "      <th>Chamjask73</th>\n",
       "      <td>13.83</td>\n",
       "      <td>4.610000</td>\n",
       "      <td>3</td>\n",
       "    </tr>\n",
       "    <tr>\n",
       "      <th>Iral74</th>\n",
       "      <td>13.62</td>\n",
       "      <td>3.405000</td>\n",
       "      <td>4</td>\n",
       "    </tr>\n",
       "    <tr>\n",
       "      <th>Iskadarya95</th>\n",
       "      <td>13.10</td>\n",
       "      <td>4.366667</td>\n",
       "      <td>3</td>\n",
       "    </tr>\n",
       "  </tbody>\n",
       "</table>\n",
       "</div>"
      ],
      "text/plain": [
       "             Total Purchase Value   Average  Purchase Count\n",
       "SN                                                         \n",
       "Lisosia93                   18.96  3.792000               5\n",
       "Idastidru52                 15.45  3.862500               4\n",
       "Chamjask73                  13.83  4.610000               3\n",
       "Iral74                      13.62  3.405000               4\n",
       "Iskadarya95                 13.10  4.366667               3"
      ]
     },
     "execution_count": 58,
     "metadata": {},
     "output_type": "execute_result"
    }
   ],
   "source": [
    "total=df.groupby(['SN'])[\"Price\"].sum()\n",
    "average = df.groupby(['SN'])[\"Price\"].mean()\n",
    "count_data =df.groupby(['SN'])[\"Price\"].count()\n",
    "user_df= pd.DataFrame({\"Total Purchase Value\":total,\"Average\":average,\"Purchase Count\":count_data})\n",
    "sorted_df=user_df.sort_values(\"Total Purchase Value\",ascending=False)\n",
    "sorted_df.head()"
   ]
  },
  {
   "cell_type": "code",
   "execution_count": 87,
   "id": "guilty-philippines",
   "metadata": {
    "scrolled": true
   },
   "outputs": [
    {
     "ename": "TypeError",
     "evalue": "count() takes exactly one argument (0 given)",
     "output_type": "error",
     "traceback": [
      "\u001b[1;31m---------------------------------------------------------------------------\u001b[0m",
      "\u001b[1;31mTypeError\u001b[0m                                 Traceback (most recent call last)",
      "\u001b[1;32m<ipython-input-87-8184ff285b75>\u001b[0m in \u001b[0;36m<module>\u001b[1;34m\u001b[0m\n\u001b[1;32m----> 1\u001b[1;33m \u001b[0mNameid\u001b[0m\u001b[1;33m=\u001b[0m\u001b[0mhop_df\u001b[0m\u001b[1;33m.\u001b[0m\u001b[0mgroupby\u001b[0m\u001b[1;33m(\u001b[0m\u001b[1;33m[\u001b[0m\u001b[1;34m\"Item Name\"\u001b[0m\u001b[1;33m]\u001b[0m\u001b[1;33m)\u001b[0m\u001b[1;33m,\u001b[0m\u001b[1;33m[\u001b[0m\u001b[1;34m\"Item ID\"\u001b[0m\u001b[1;33m]\u001b[0m\u001b[1;33m.\u001b[0m\u001b[0mcount\u001b[0m\u001b[1;33m(\u001b[0m\u001b[1;33m)\u001b[0m\u001b[1;33m\u001b[0m\u001b[1;33m\u001b[0m\u001b[0m\n\u001b[0m\u001b[0;32m      2\u001b[0m \u001b[0mNameid\u001b[0m\u001b[1;33m\u001b[0m\u001b[1;33m\u001b[0m\u001b[0m\n",
      "\u001b[1;31mTypeError\u001b[0m: count() takes exactly one argument (0 given)"
     ]
    }
   ],
   "source": [
    "Nameid=hop_df.groupby([\"Item Name\"]),[\"Item ID\"].count()\n",
    "Nameid"
   ]
  },
  {
   "cell_type": "code",
   "execution_count": 84,
   "id": "incorporated-giant",
   "metadata": {},
   "outputs": [
    {
     "data": {
      "text/html": [
       "<div>\n",
       "<style scoped>\n",
       "    .dataframe tbody tr th:only-of-type {\n",
       "        vertical-align: middle;\n",
       "    }\n",
       "\n",
       "    .dataframe tbody tr th {\n",
       "        vertical-align: top;\n",
       "    }\n",
       "\n",
       "    .dataframe thead th {\n",
       "        text-align: right;\n",
       "    }\n",
       "</style>\n",
       "<table border=\"1\" class=\"dataframe\">\n",
       "  <thead>\n",
       "    <tr style=\"text-align: right;\">\n",
       "      <th></th>\n",
       "      <th>Purchase ID</th>\n",
       "      <th>SN</th>\n",
       "      <th>Age</th>\n",
       "      <th>Gender</th>\n",
       "      <th>Item Name</th>\n",
       "      <th>Price</th>\n",
       "      <th>Age Group</th>\n",
       "    </tr>\n",
       "    <tr>\n",
       "      <th>Item ID</th>\n",
       "      <th></th>\n",
       "      <th></th>\n",
       "      <th></th>\n",
       "      <th></th>\n",
       "      <th></th>\n",
       "      <th></th>\n",
       "      <th></th>\n",
       "    </tr>\n",
       "  </thead>\n",
       "  <tbody>\n",
       "    <tr>\n",
       "      <th>0</th>\n",
       "      <td>4</td>\n",
       "      <td>4</td>\n",
       "      <td>4</td>\n",
       "      <td>4</td>\n",
       "      <td>4</td>\n",
       "      <td>4</td>\n",
       "      <td>4</td>\n",
       "    </tr>\n",
       "    <tr>\n",
       "      <th>1</th>\n",
       "      <td>4</td>\n",
       "      <td>4</td>\n",
       "      <td>4</td>\n",
       "      <td>4</td>\n",
       "      <td>4</td>\n",
       "      <td>4</td>\n",
       "      <td>4</td>\n",
       "    </tr>\n",
       "    <tr>\n",
       "      <th>2</th>\n",
       "      <td>6</td>\n",
       "      <td>6</td>\n",
       "      <td>6</td>\n",
       "      <td>6</td>\n",
       "      <td>6</td>\n",
       "      <td>6</td>\n",
       "      <td>6</td>\n",
       "    </tr>\n",
       "    <tr>\n",
       "      <th>3</th>\n",
       "      <td>6</td>\n",
       "      <td>6</td>\n",
       "      <td>6</td>\n",
       "      <td>6</td>\n",
       "      <td>6</td>\n",
       "      <td>6</td>\n",
       "      <td>6</td>\n",
       "    </tr>\n",
       "    <tr>\n",
       "      <th>4</th>\n",
       "      <td>5</td>\n",
       "      <td>5</td>\n",
       "      <td>5</td>\n",
       "      <td>5</td>\n",
       "      <td>5</td>\n",
       "      <td>5</td>\n",
       "      <td>5</td>\n",
       "    </tr>\n",
       "    <tr>\n",
       "      <th>...</th>\n",
       "      <td>...</td>\n",
       "      <td>...</td>\n",
       "      <td>...</td>\n",
       "      <td>...</td>\n",
       "      <td>...</td>\n",
       "      <td>...</td>\n",
       "      <td>...</td>\n",
       "    </tr>\n",
       "    <tr>\n",
       "      <th>178</th>\n",
       "      <td>12</td>\n",
       "      <td>12</td>\n",
       "      <td>12</td>\n",
       "      <td>12</td>\n",
       "      <td>12</td>\n",
       "      <td>12</td>\n",
       "      <td>12</td>\n",
       "    </tr>\n",
       "    <tr>\n",
       "      <th>179</th>\n",
       "      <td>6</td>\n",
       "      <td>6</td>\n",
       "      <td>6</td>\n",
       "      <td>6</td>\n",
       "      <td>6</td>\n",
       "      <td>6</td>\n",
       "      <td>6</td>\n",
       "    </tr>\n",
       "    <tr>\n",
       "      <th>181</th>\n",
       "      <td>5</td>\n",
       "      <td>5</td>\n",
       "      <td>5</td>\n",
       "      <td>5</td>\n",
       "      <td>5</td>\n",
       "      <td>5</td>\n",
       "      <td>5</td>\n",
       "    </tr>\n",
       "    <tr>\n",
       "      <th>182</th>\n",
       "      <td>3</td>\n",
       "      <td>3</td>\n",
       "      <td>3</td>\n",
       "      <td>3</td>\n",
       "      <td>3</td>\n",
       "      <td>3</td>\n",
       "      <td>3</td>\n",
       "    </tr>\n",
       "    <tr>\n",
       "      <th>183</th>\n",
       "      <td>3</td>\n",
       "      <td>3</td>\n",
       "      <td>3</td>\n",
       "      <td>3</td>\n",
       "      <td>3</td>\n",
       "      <td>3</td>\n",
       "      <td>3</td>\n",
       "    </tr>\n",
       "  </tbody>\n",
       "</table>\n",
       "<p>179 rows × 7 columns</p>\n",
       "</div>"
      ],
      "text/plain": [
       "         Purchase ID  SN  Age  Gender  Item Name  Price  Age Group\n",
       "Item ID                                                           \n",
       "0                  4   4    4       4          4      4          4\n",
       "1                  4   4    4       4          4      4          4\n",
       "2                  6   6    6       6          6      6          6\n",
       "3                  6   6    6       6          6      6          6\n",
       "4                  5   5    5       5          5      5          5\n",
       "...              ...  ..  ...     ...        ...    ...        ...\n",
       "178               12  12   12      12         12     12         12\n",
       "179                6   6    6       6          6      6          6\n",
       "181                5   5    5       5          5      5          5\n",
       "182                3   3    3       3          3      3          3\n",
       "183                3   3    3       3          3      3          3\n",
       "\n",
       "[179 rows x 7 columns]"
      ]
     },
     "execution_count": 84,
     "metadata": {},
     "output_type": "execute_result"
    }
   ],
   "source": [
    "Nameitemid=hop_df.groupby([\"Item ID\"]).count()\n",
    "Nameitemid"
   ]
  },
  {
   "cell_type": "code",
   "execution_count": 60,
   "id": "catholic-bradford",
   "metadata": {
    "scrolled": false
   },
   "outputs": [
    {
     "data": {
      "text/html": [
       "<div>\n",
       "<style scoped>\n",
       "    .dataframe tbody tr th:only-of-type {\n",
       "        vertical-align: middle;\n",
       "    }\n",
       "\n",
       "    .dataframe tbody tr th {\n",
       "        vertical-align: top;\n",
       "    }\n",
       "\n",
       "    .dataframe thead th {\n",
       "        text-align: right;\n",
       "    }\n",
       "</style>\n",
       "<table border=\"1\" class=\"dataframe\">\n",
       "  <thead>\n",
       "    <tr style=\"text-align: right;\">\n",
       "      <th></th>\n",
       "      <th></th>\n",
       "      <th></th>\n",
       "      <th></th>\n",
       "    </tr>\n",
       "    <tr>\n",
       "      <th>Item Count</th>\n",
       "      <th>totp</th>\n",
       "      <th>Average</th>\n",
       "      <th>Purchase Value</th>\n",
       "    </tr>\n",
       "  </thead>\n",
       "  <tbody>\n",
       "    <tr>\n",
       "      <th>179</th>\n",
       "      <th>2379.77</th>\n",
       "      <th>3.050987</th>\n",
       "      <th>2379.77</th>\n",
       "    </tr>\n",
       "  </tbody>\n",
       "</table>\n",
       "</div>"
      ],
      "text/plain": [
       "Empty DataFrame\n",
       "Columns: []\n",
       "Index: [(179, 2379.77, 3.0509871794871795, 2379.77)]"
      ]
     },
     "execution_count": 60,
     "metadata": {},
     "output_type": "execute_result"
    }
   ],
   "source": [
    "totalpcnt=df[\"Price\"].sum()\n",
    "avg=df['Price'].mean()\n",
    "totalpurvalue=df['Price'].sum()\n",
    "itemcount=len(df['Item Name'].unique())\n",
    "popular_df= pd.DataFrame({\"Item Count\":itemcount,\"totp\":[totalpcnt],\"Average\":[avg],\"Purchase Value\":[totalpurvalue]})\n",
    "popular_df = popular_df.set_index(['Item Count','totp','Average','Purchase Value'])\n",
    "popular_df\n",
    "#sorted_vl=popular_df.sort_values(\"Item Count\",ascending=False)\n",
    "#sorted_vl.head()"
   ]
  },
  {
   "cell_type": "code",
   "execution_count": 101,
   "id": "short-element",
   "metadata": {},
   "outputs": [
    {
     "data": {
      "text/plain": [
       "0       NaN\n",
       "1       <=6\n",
       "2       <=6\n",
       "3       <=6\n",
       "4       <=6\n",
       "5       <=6\n",
       "6       <=6\n",
       "7         7\n",
       "8         8\n",
       "9         8\n",
       "10        9\n",
       "11    10-12\n",
       "12    10-12\n",
       "13       13\n",
       "14       15\n",
       "15       15\n",
       "16      NaN\n",
       "17      NaN\n",
       "18      NaN\n",
       "19      NaN\n",
       "Name: Purchase ID, dtype: category\n",
       "Categories (7, object): ['<=6' < '7' < '8' < '9' < '10-12' < '13' < '15']"
      ]
     },
     "execution_count": 101,
     "metadata": {},
     "output_type": "execute_result"
    }
   ],
   "source": [
    "# Create the bins in which Data will be held\n",
    "# Bins are 0, 59.9, 69.9, 79.9, 89.9, 100.   \n",
    "purcbins = [0,6,7,9,10, 12, 13,15]\n",
    "\n",
    "# Create the names for the five bins\n",
    "purc_cat = [\"<=6\", \"7\",\"8\", \"9\", \"10-12\", \"13\",\"15\"]\n",
    "\n",
    "# Slice the data and place it into bins\n",
    "pd.cut(hop_df[\"Purchase ID\"], purcbins, labels=purc_cat).head(20)\n",
    "\n",
    "\n",
    "\n"
   ]
  },
  {
   "cell_type": "code",
   "execution_count": 102,
   "id": "partial-steal",
   "metadata": {},
   "outputs": [
    {
     "data": {
      "text/html": [
       "<div>\n",
       "<style scoped>\n",
       "    .dataframe tbody tr th:only-of-type {\n",
       "        vertical-align: middle;\n",
       "    }\n",
       "\n",
       "    .dataframe tbody tr th {\n",
       "        vertical-align: top;\n",
       "    }\n",
       "\n",
       "    .dataframe thead th {\n",
       "        text-align: right;\n",
       "    }\n",
       "</style>\n",
       "<table border=\"1\" class=\"dataframe\">\n",
       "  <thead>\n",
       "    <tr style=\"text-align: right;\">\n",
       "      <th></th>\n",
       "      <th>Purchase ID</th>\n",
       "      <th>SN</th>\n",
       "      <th>Age</th>\n",
       "      <th>Gender</th>\n",
       "      <th>Item ID</th>\n",
       "      <th>Item Name</th>\n",
       "      <th>Price</th>\n",
       "      <th>Age Group</th>\n",
       "      <th>PurTot</th>\n",
       "    </tr>\n",
       "  </thead>\n",
       "  <tbody>\n",
       "    <tr>\n",
       "      <th>775</th>\n",
       "      <td>775</td>\n",
       "      <td>Aethedru70</td>\n",
       "      <td>21</td>\n",
       "      <td>Female</td>\n",
       "      <td>60</td>\n",
       "      <td>Wolf</td>\n",
       "      <td>3.54</td>\n",
       "      <td>20-24</td>\n",
       "      <td>NaN</td>\n",
       "    </tr>\n",
       "    <tr>\n",
       "      <th>776</th>\n",
       "      <td>776</td>\n",
       "      <td>Iral74</td>\n",
       "      <td>21</td>\n",
       "      <td>Male</td>\n",
       "      <td>164</td>\n",
       "      <td>Exiled Doomblade</td>\n",
       "      <td>1.63</td>\n",
       "      <td>20-24</td>\n",
       "      <td>NaN</td>\n",
       "    </tr>\n",
       "    <tr>\n",
       "      <th>777</th>\n",
       "      <td>777</td>\n",
       "      <td>Yathecal72</td>\n",
       "      <td>20</td>\n",
       "      <td>Male</td>\n",
       "      <td>67</td>\n",
       "      <td>Celeste, Incarnation of the Corrupted</td>\n",
       "      <td>3.46</td>\n",
       "      <td>15-19</td>\n",
       "      <td>NaN</td>\n",
       "    </tr>\n",
       "    <tr>\n",
       "      <th>778</th>\n",
       "      <td>778</td>\n",
       "      <td>Sisur91</td>\n",
       "      <td>7</td>\n",
       "      <td>Male</td>\n",
       "      <td>92</td>\n",
       "      <td>Final Critic</td>\n",
       "      <td>4.19</td>\n",
       "      <td>&lt;=10</td>\n",
       "      <td>NaN</td>\n",
       "    </tr>\n",
       "    <tr>\n",
       "      <th>779</th>\n",
       "      <td>779</td>\n",
       "      <td>Ennrian78</td>\n",
       "      <td>24</td>\n",
       "      <td>Male</td>\n",
       "      <td>50</td>\n",
       "      <td>Dawn</td>\n",
       "      <td>4.60</td>\n",
       "      <td>20-24</td>\n",
       "      <td>NaN</td>\n",
       "    </tr>\n",
       "  </tbody>\n",
       "</table>\n",
       "</div>"
      ],
      "text/plain": [
       "     Purchase ID          SN  Age  Gender  Item ID  \\\n",
       "775          775  Aethedru70   21  Female       60   \n",
       "776          776      Iral74   21    Male      164   \n",
       "777          777  Yathecal72   20    Male       67   \n",
       "778          778     Sisur91    7    Male       92   \n",
       "779          779   Ennrian78   24    Male       50   \n",
       "\n",
       "                                 Item Name  Price Age Group PurTot  \n",
       "775                                   Wolf   3.54     20-24    NaN  \n",
       "776                       Exiled Doomblade   1.63     20-24    NaN  \n",
       "777  Celeste, Incarnation of the Corrupted   3.46     15-19    NaN  \n",
       "778                           Final Critic   4.19      <=10    NaN  \n",
       "779                                   Dawn   4.60     20-24    NaN  "
      ]
     },
     "execution_count": 102,
     "metadata": {},
     "output_type": "execute_result"
    }
   ],
   "source": [
    "# Place the data series into a new column inside of the DataFrame\n",
    "hop_df[\"PurTot\"] = pd.cut(hop_df[\"Purchase ID\"], purcbins, labels=purc_cat)\n",
    "hop_df.tail()"
   ]
  },
  {
   "cell_type": "code",
   "execution_count": null,
   "id": "peripheral-railway",
   "metadata": {},
   "outputs": [],
   "source": [
    "# Create a GroupBy object based upon \"View Group\"\n",
    "itemid_group = hop_df.groupby(\"PurTot\")\n",
    "\n",
    "# Find how many rows fall into each bin\n",
    "cpcid=(itemid_group[\"Purchase ID\"].count())\n",
    "print(a)\n",
    "\n",
    "# Find how many rows fall into each bin\n",
    "apprice=(itemid_group[\"Price\"].mean())\n",
    "print(admean)\n",
    "\n",
    "# Find how many rows fall into each bin\n",
    "d=(itemid_group[\"Item Name\"].sum())\n",
    "print(d)"
   ]
  },
  {
   "cell_type": "code",
   "execution_count": 92,
   "id": "injured-illinois",
   "metadata": {
    "scrolled": true
   },
   "outputs": [
    {
     "data": {
      "text/html": [
       "<div>\n",
       "<style scoped>\n",
       "    .dataframe tbody tr th:only-of-type {\n",
       "        vertical-align: middle;\n",
       "    }\n",
       "\n",
       "    .dataframe tbody tr th {\n",
       "        vertical-align: top;\n",
       "    }\n",
       "\n",
       "    .dataframe thead th {\n",
       "        text-align: right;\n",
       "    }\n",
       "</style>\n",
       "<table border=\"1\" class=\"dataframe\">\n",
       "  <thead>\n",
       "    <tr style=\"text-align: right;\">\n",
       "      <th></th>\n",
       "      <th>Total Count</th>\n",
       "      <th>Average Total Price</th>\n",
       "      <th>Total Purchase Value</th>\n",
       "    </tr>\n",
       "    <tr>\n",
       "      <th>Purchase ID</th>\n",
       "      <th></th>\n",
       "      <th></th>\n",
       "      <th></th>\n",
       "    </tr>\n",
       "  </thead>\n",
       "  <tbody>\n",
       "    <tr>\n",
       "      <th>0</th>\n",
       "      <td>1</td>\n",
       "      <td>3.53</td>\n",
       "      <td>3.53</td>\n",
       "    </tr>\n",
       "    <tr>\n",
       "      <th>1</th>\n",
       "      <td>1</td>\n",
       "      <td>1.56</td>\n",
       "      <td>1.56</td>\n",
       "    </tr>\n",
       "    <tr>\n",
       "      <th>2</th>\n",
       "      <td>1</td>\n",
       "      <td>4.88</td>\n",
       "      <td>4.88</td>\n",
       "    </tr>\n",
       "    <tr>\n",
       "      <th>3</th>\n",
       "      <td>1</td>\n",
       "      <td>3.27</td>\n",
       "      <td>3.27</td>\n",
       "    </tr>\n",
       "    <tr>\n",
       "      <th>4</th>\n",
       "      <td>1</td>\n",
       "      <td>1.44</td>\n",
       "      <td>1.44</td>\n",
       "    </tr>\n",
       "    <tr>\n",
       "      <th>...</th>\n",
       "      <td>...</td>\n",
       "      <td>...</td>\n",
       "      <td>...</td>\n",
       "    </tr>\n",
       "    <tr>\n",
       "      <th>775</th>\n",
       "      <td>1</td>\n",
       "      <td>3.54</td>\n",
       "      <td>3.54</td>\n",
       "    </tr>\n",
       "    <tr>\n",
       "      <th>776</th>\n",
       "      <td>1</td>\n",
       "      <td>1.63</td>\n",
       "      <td>1.63</td>\n",
       "    </tr>\n",
       "    <tr>\n",
       "      <th>777</th>\n",
       "      <td>1</td>\n",
       "      <td>3.46</td>\n",
       "      <td>3.46</td>\n",
       "    </tr>\n",
       "    <tr>\n",
       "      <th>778</th>\n",
       "      <td>1</td>\n",
       "      <td>4.19</td>\n",
       "      <td>4.19</td>\n",
       "    </tr>\n",
       "    <tr>\n",
       "      <th>779</th>\n",
       "      <td>1</td>\n",
       "      <td>4.60</td>\n",
       "      <td>4.60</td>\n",
       "    </tr>\n",
       "  </tbody>\n",
       "</table>\n",
       "<p>780 rows × 3 columns</p>\n",
       "</div>"
      ],
      "text/plain": [
       "             Total Count  Average Total Price  Total Purchase Value\n",
       "Purchase ID                                                        \n",
       "0                      1                 3.53                  3.53\n",
       "1                      1                 1.56                  1.56\n",
       "2                      1                 4.88                  4.88\n",
       "3                      1                 3.27                  3.27\n",
       "4                      1                 1.44                  1.44\n",
       "...                  ...                  ...                   ...\n",
       "775                    1                 3.54                  3.54\n",
       "776                    1                 1.63                  1.63\n",
       "777                    1                 3.46                  3.46\n",
       "778                    1                 4.19                  4.19\n",
       "779                    1                 4.60                  4.60\n",
       "\n",
       "[780 rows x 3 columns]"
      ]
     },
     "execution_count": 92,
     "metadata": {},
     "output_type": "execute_result"
    }
   ],
   "source": [
    "purc_df = pd.DataFrame({\"Total Count\":IDcnt,\"Average Total Price\":apprice,\"Total Purchase Value\":purcsum})\n",
    "\n",
    "purc_df"
   ]
  },
  {
   "cell_type": "raw",
   "id": "numerous-equilibrium",
   "metadata": {},
   "source": []
  }
 ],
 "metadata": {
  "kernelspec": {
   "display_name": "Python 3",
   "language": "python",
   "name": "python3"
  },
  "language_info": {
   "codemirror_mode": {
    "name": "ipython",
    "version": 3
   },
   "file_extension": ".py",
   "mimetype": "text/x-python",
   "name": "python",
   "nbconvert_exporter": "python",
   "pygments_lexer": "ipython3",
   "version": "3.8.8"
  }
 },
 "nbformat": 4,
 "nbformat_minor": 5
}
